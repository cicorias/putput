{
 "cells": [
  {
   "cell_type": "markdown",
   "metadata": {},
   "source": [
    "# Named entity recognition model built in keras, trained on putput utterances and tokens"
   ]
  },
  {
   "cell_type": "markdown",
   "metadata": {},
   "source": [
    "This notebook demonstrates using putput to generate data and train a named entity recognition model. Specifically, the notebook considers the scenario in which customers place orders at a restaurant. Labels follow the <a href=\"https://en.wikipedia.org/wiki/Inside%E2%80%93outside%E2%80%93beginning_(tagging)\">IOB2 format</a>.\n",
    "\n",
    "For instance, given a customer's utterance:\n",
    "* \"can i have a chicken sandwich please\"\n",
    "\n",
    "the model should output the tokens\n",
    "* \"B-ADD_TO_ORDER I-ADD_TO_ORDER I-ADD_TO_ORDER B-QUANTITY B-ITEM I-ITEM O\".\n",
    "\n",
    "where \"B-\" indicates the beginning of a chunk, \"I-\" indicates inside a chunk, and \"O-\" indicates outside a chunk. In this scenario \"can i have\" is an ADD_TO_ORDER chunk, \"a\" is a QUANTITY chunk, and \"please\" is not part of any chunk.\n",
    "\n",
    "This notebook borrows heavily from [an awesome blog series on deep learning for named entity recognition](https://www.depends-on-the-definition.com/guide-sequence-tagging-neural-networks-python/).\n",
    "\n",
    "**If you would like to run this notebook yourself, you will need a GPU for training the LSTM.**"
   ]
  },
  {
   "cell_type": "code",
   "execution_count": 1,
   "metadata": {},
   "outputs": [
    {
     "name": "stderr",
     "output_type": "stream",
     "text": [
      "/anaconda/envs/py35/lib/python3.5/site-packages/h5py/__init__.py:36: FutureWarning: Conversion of the second argument of issubdtype from `float` to `np.floating` is deprecated. In future, it will be treated as `np.float64 == np.dtype(float).type`.\n",
      "  from ._conv import register_converters as _register_converters\n",
      "Using TensorFlow backend.\n"
     ]
    }
   ],
   "source": [
    "import itertools\n",
    "from pathlib import Path\n",
    "import os\n",
    "\n",
    "import matplotlib.pyplot as plt\n",
    "import numpy as np\n",
    "import pandas as pd\n",
    "\n",
    "from keras.preprocessing.sequence import pad_sequences\n",
    "from keras.utils import to_categorical\n",
    "from keras.models import Model, Input\n",
    "from keras.layers import LSTM, Embedding, Dense, TimeDistributed, Dropout, Bidirectional\n",
    "from putput import ComboOptions\n",
    "from putput import Pipeline\n",
    "from seqeval.metrics import classification_report\n",
    "from sklearn.model_selection import train_test_split"
   ]
  },
  {
   "cell_type": "markdown",
   "metadata": {},
   "source": [
    "# Define all the functions we will need"
   ]
  },
  {
   "cell_type": "code",
   "execution_count": 2,
   "metadata": {},
   "outputs": [],
   "source": [
    "def _bio_token_handler(token, phrase):\n",
    "    tokens = ['{}-{}'.format('B' if i == 0 else 'I', token)\n",
    "              for i, _ in enumerate(phrase.replace(\" '\", \"'\").split())]\n",
    "    return ' '.join(tokens)\n",
    "\n",
    "def _bio_group_handler(group_name, handled_tokens):\n",
    "    num_tokens = 0\n",
    "    for tokenized_phrase in handled_tokens:\n",
    "        num_tokens += len(tokenized_phrase.split())\n",
    "    groups = ['{}-{}'.format('B' if i == 0 else 'I', group_name)\n",
    "              for i in range(num_tokens)]\n",
    "    return ' '.join(groups)"
   ]
  },
  {
   "cell_type": "code",
   "execution_count": 3,
   "metadata": {},
   "outputs": [],
   "source": [
    "def compute_utterances_and_tokens():\n",
    "    pattern_def_path = Path(os.getcwd()) / \"patterns.yml\"\n",
    "    dynamic_token_patterns_map = {\n",
    "        \"ITEM\": (((\"burger\", \"hamburger\", \"coke\", \"french fries\", \"chicken sandwich\", \"ten chicken strips\"),),),\n",
    "        \"QUANTITY\": (((\"a\", \"the\", \"one\", \"two\", \"three\", \"four\", \"five\", \"six\", \"seven\", \"eight\", \"nine\", \"ten\"),),),\n",
    "    }\n",
    "    \n",
    "    token_handler_map = {\n",
    "        'DEFAULT': _bio_token_handler\n",
    "    }\n",
    "\n",
    "    group_handler_map = {\n",
    "        'DEFAULT': _bio_group_handler\n",
    "    }\n",
    "    \n",
    "    combo_options_map = {\n",
    "        'DEFAULT': ComboOptions(max_sample_size=3000, with_replacement=True, seed=0)\n",
    "    }\n",
    "\n",
    "    MAX_DATA_SIZE = os.environ.get('MAX_DATA_SIZE')\n",
    "    all_utterances = []\n",
    "    all_tokens = []\n",
    "    p = Pipeline()\n",
    "    for count, (utterance, tokens, groups) in enumerate(p.flow(pattern_def_path,\n",
    "                                                               dynamic_token_patterns_map=dynamic_token_patterns_map,\n",
    "                                                               token_handler_map=token_handler_map,\n",
    "                                                               group_handler_map=group_handler_map,\n",
    "                                                               combo_options_map=combo_options_map)):\n",
    "        if MAX_DATA_SIZE and MAX_DATA_SIZE == count:\n",
    "            break\n",
    "        all_utterances.append(utterance)\n",
    "        all_tokens.append(tokens)\n",
    "\n",
    "    utterances = all_utterances\n",
    "    utterances = [utterance.replace(\" '\", \"'\") for utterance in utterances]\n",
    "    utterances = [utterance.split() for utterance in utterances]\n",
    "\n",
    "    tokens = all_tokens\n",
    "    tokens = [token.split() for token in tokens]\n",
    "    return utterances, tokens"
   ]
  },
  {
   "cell_type": "code",
   "execution_count": 4,
   "metadata": {},
   "outputs": [],
   "source": [
    "def compute_tags(tokens):\n",
    "    tags = list(set(list(itertools.chain.from_iterable(tokens))))\n",
    "    if 'O' not in tags:\n",
    "        tags.append('O')\n",
    "    return tags"
   ]
  },
  {
   "cell_type": "code",
   "execution_count": 5,
   "metadata": {},
   "outputs": [],
   "source": [
    "def compute_word2idx(utterances):\n",
    "    words = list(set(list(itertools.chain.from_iterable(utterances))))\n",
    "    words.append(\"ENDPAD\")\n",
    "    words.append(\"UNKNOWN\")\n",
    "    word2idx = {w: i for i, w in enumerate(words)}\n",
    "    return word2idx"
   ]
  },
  {
   "cell_type": "code",
   "execution_count": 6,
   "metadata": {},
   "outputs": [],
   "source": [
    "def compute_tag2idx(tags):\n",
    "    tag2idx = {t: i for i, t in enumerate(tags)}\n",
    "    return tag2idx"
   ]
  },
  {
   "cell_type": "code",
   "execution_count": 7,
   "metadata": {},
   "outputs": [],
   "source": [
    "def plot_histogram_length_of_utterances(utterances):\n",
    "    plt.hist([len(utterance) for utterance in utterances], bins=50)\n",
    "    plt.show()"
   ]
  },
  {
   "cell_type": "code",
   "execution_count": 8,
   "metadata": {},
   "outputs": [],
   "source": [
    "def transform_utterances_for_keras(utterances, max_utterance_length, word2idx):\n",
    "    X = [[(word2idx.get(word) or word2idx.get(\"UNKNOWN\")) for word in phrase] for phrase in utterances]\n",
    "    X = pad_sequences(maxlen=max_utterance_length, sequences=X, padding=\"post\", value=word2idx['ENDPAD'])\n",
    "    return X"
   ]
  },
  {
   "cell_type": "code",
   "execution_count": 9,
   "metadata": {},
   "outputs": [],
   "source": [
    "def transform_tokens_for_keras(tokens, max_utterance_length, tag2idx):\n",
    "    y = [[tag2idx[tag] for tag in token] for token in tokens]\n",
    "    y = pad_sequences(maxlen=max_utterance_length, sequences=y, padding=\"post\", value=tag2idx[\"O\"])\n",
    "    y = [to_categorical(i, num_classes=len(tag2idx)) for i in y]\n",
    "    return y"
   ]
  },
  {
   "cell_type": "code",
   "execution_count": 10,
   "metadata": {},
   "outputs": [],
   "source": [
    "def define_and_compile_model(max_utterance_length, num_unique_words, num_unique_tags):\n",
    "    # bidirectional LSTM with custom word embeddings\n",
    "    input = Input(shape=(max_utterance_length,))\n",
    "    model = Embedding(input_dim=num_unique_words, output_dim=16, input_length=max_utterance_length)(input)\n",
    "    model = Dropout(0.1)(model)\n",
    "    model = Bidirectional(LSTM(units=16, return_sequences=True, recurrent_dropout=0.1))(model)\n",
    "    out = TimeDistributed(Dense(num_unique_tags, activation=\"softmax\"))(model)  # softmax output layer\n",
    "    model = Model(input, out)\n",
    "    model.compile(optimizer=\"rmsprop\", loss=\"categorical_crossentropy\", metrics=[\"accuracy\"])\n",
    "    return model"
   ]
  },
  {
   "cell_type": "code",
   "execution_count": 11,
   "metadata": {},
   "outputs": [],
   "source": [
    "def train_model(X_tr, y_tr):\n",
    "    history = model.fit(X_tr, np.array(y_tr), batch_size=32, epochs=2, validation_split=0.1, verbose=1)\n",
    "    return history"
   ]
  },
  {
   "cell_type": "code",
   "execution_count": 12,
   "metadata": {},
   "outputs": [],
   "source": [
    "def plot_model_training(history):\n",
    "    hist = pd.DataFrame(history.history)\n",
    "    plt.figure(figsize=(12,12))\n",
    "    plt.plot(hist[\"acc\"])\n",
    "    plt.plot(hist[\"val_acc\"])\n",
    "    plt.show()"
   ]
  },
  {
   "cell_type": "code",
   "execution_count": 13,
   "metadata": {},
   "outputs": [],
   "source": [
    "def _convert_model_output_to_labels(pred, idx2tag):\n",
    "    out = []\n",
    "    for pred_i in pred:\n",
    "        out_i = []\n",
    "        for p in pred_i:\n",
    "            p_i = np.argmax(p)\n",
    "            out_i.append(idx2tag[p_i])\n",
    "        out.append(out_i)\n",
    "    return out"
   ]
  },
  {
   "cell_type": "code",
   "execution_count": 14,
   "metadata": {},
   "outputs": [],
   "source": [
    "def evaluate_model_on_test_split(model, X_te, y_te, tag2idx):\n",
    "    idx2tag = {i: w for w, i in tag2idx.items()}\n",
    "    test_pred = model.predict(X_te, verbose=1)\n",
    "    pred_labels = _convert_model_output_to_labels(test_pred, idx2tag)\n",
    "    test_labels = _convert_model_output_to_labels(y_te, idx2tag)\n",
    "    return classification_report(test_labels, pred_labels)"
   ]
  },
  {
   "cell_type": "code",
   "execution_count": 15,
   "metadata": {},
   "outputs": [],
   "source": [
    "def predict(model, pred_utterance, max_utterance_length, word2idx, tag2idx):\n",
    "    pred_utterances = [pred_utterance.split()]\n",
    "    X = transform_utterances_for_keras(pred_utterances, max_utterance_length, word2idx)    \n",
    "    p = model.predict(np.array([X[0]]))\n",
    "    p = np.argmax(p, axis=-1)\n",
    "\n",
    "    idx2word = {idx: word for word, idx in word2idx.items()}\n",
    "    idx2tag = {idx: word for word, idx in tag2idx.items()}\n",
    "    \n",
    "    formatted_prediction = \"{:15}: {}\".format(\"Word\", \"Pred\")\n",
    "    for w, pred in zip(X[0], p[0]):\n",
    "        formatted_prediction += \"\\n{:15}: {}\".format(idx2word[w], idx2tag[pred])\n",
    "    return formatted_prediction"
   ]
  },
  {
   "cell_type": "markdown",
   "metadata": {},
   "source": [
    "# Create utterances/tokens"
   ]
  },
  {
   "cell_type": "code",
   "execution_count": 16,
   "metadata": {},
   "outputs": [],
   "source": [
    "utterances, tokens = compute_utterances_and_tokens()\n",
    "tags = compute_tags(tokens)"
   ]
  },
  {
   "cell_type": "markdown",
   "metadata": {},
   "source": [
    "# Analyze the utterances and tokens to determine max utterance length"
   ]
  },
  {
   "cell_type": "code",
   "execution_count": 17,
   "metadata": {},
   "outputs": [
    {
     "name": "stdout",
     "output_type": "stream",
     "text": [
      "There are 54000 utterances and they look like: [\"we'll\", 'want', 'to', 'get', 'seven', 'coke', 'and', 'the', 'ten', 'chicken', 'strips']\n",
      "There are 54000 tokens and they look like: ['B-ADD_TO_ORDER', 'I-ADD_TO_ORDER', 'I-ADD_TO_ORDER', 'I-ADD_TO_ORDER', 'B-QUANTITY', 'B-ITEM', 'B-CONJUNCTION', 'B-QUANTITY', 'B-ITEM', 'I-ITEM', 'I-ITEM']\n"
     ]
    },
    {
     "data": {
      "image/png": "[encoded data removed]",
      "text/plain": [
       "<Figure size 432x288 with 1 Axes>"
      ]
     },
     "metadata": {},
     "output_type": "display_data"
    }
   ],
   "source": [
    "print(\"There are {} utterances and they look like:\".format(len(utterances)), utterances[0])\n",
    "print(\"There are {} tokens and they look like:\".format(len(tokens)), tokens[0])\n",
    "plot_histogram_length_of_utterances(utterances)\n",
    "max_utterance_length = 30 # based on the histogram"
   ]
  },
  {
   "cell_type": "markdown",
   "metadata": {},
   "source": [
    "Keras expects all utterances to be of the same length. Therefore we look at the distribution of lengths of utterances to determine what an appropriate maximum length should be. "
   ]
  },
  {
   "cell_type": "markdown",
   "metadata": {},
   "source": [
    "# Create a train test split of the data, in a format amenable to keras"
   ]
  },
  {
   "cell_type": "code",
   "execution_count": 18,
   "metadata": {},
   "outputs": [],
   "source": [
    "word2idx = compute_word2idx(utterances)\n",
    "tag2idx = compute_tag2idx(tags)\n",
    "X = transform_utterances_for_keras(utterances, max_utterance_length, word2idx)\n",
    "y = transform_tokens_for_keras(tokens, max_utterance_length, tag2idx)\n",
    "X_tr, X_te, y_tr, y_te = train_test_split(X, y, test_size=0.1)"
   ]
  },
  {
   "cell_type": "markdown",
   "metadata": {},
   "source": [
    "# Define and compile the model"
   ]
  },
  {
   "cell_type": "code",
   "execution_count": 19,
   "metadata": {},
   "outputs": [
    {
     "name": "stdout",
     "output_type": "stream",
     "text": [
      "_________________________________________________________________\n",
      "Layer (type)                 Output Shape              Param #   \n",
      "=================================================================\n",
      "input_1 (InputLayer)         (None, 30)                0         \n",
      "_________________________________________________________________\n",
      "embedding_1 (Embedding)      (None, 30, 16)            1968      \n",
      "_________________________________________________________________\n",
      "dropout_1 (Dropout)          (None, 30, 16)            0         \n",
      "_________________________________________________________________\n",
      "bidirectional_1 (Bidirection (None, 30, 32)            4224      \n",
      "_________________________________________________________________\n",
      "time_distributed_1 (TimeDist (None, 30, 11)            363       \n",
      "=================================================================\n",
      "Total params: 6,555\n",
      "Trainable params: 6,555\n",
      "Non-trainable params: 0\n",
      "_________________________________________________________________\n"
     ]
    }
   ],
   "source": [
    "model = define_and_compile_model(max_utterance_length, len(word2idx), len(tag2idx))\n",
    "model.summary()"
   ]
  },
  {
   "cell_type": "markdown",
   "metadata": {},
   "source": [
    "# Plot model training and analyze training"
   ]
  },
  {
   "cell_type": "code",
   "execution_count": 20,
   "metadata": {},
   "outputs": [
    {
     "name": "stdout",
     "output_type": "stream",
     "text": [
      "Train on 43740 samples, validate on 4860 samples\n",
      "Epoch 1/2\n",
      "43740/43740 [==============================] - 114s 3ms/step - loss: 0.1961 - acc: 0.9486 - val_loss: 0.0015 - val_acc: 0.9996\n",
      "Epoch 2/2\n",
      "43740/43740 [==============================] - 112s 3ms/step - loss: 0.0011 - acc: 0.9997 - val_loss: 3.3454e-04 - val_acc: 0.9999\n"
     ]
    },
    {
     "data": {
      "image/png": "[encoded data removed]",
      "text/plain": [
       "<Figure size 864x864 with 1 Axes>"
      ]
     },
     "metadata": {},
     "output_type": "display_data"
    }
   ],
   "source": [
    "history = train_model(X_tr, y_tr)\n",
    "plot_model_training(history)"
   ]
  },
  {
   "cell_type": "markdown",
   "metadata": {},
   "source": [
    "Note: Here we can see that the model overfits the data from putput very quickly. This is both good and bad. It is good because it demonstrates that if you already have an existing model with this architecture, and you want to train it with utterances from putput, it is likely that the model has the capacity to learn the patterns well. It is bad because if you only have data from putput, the model will not generalize."
   ]
  },
  {
   "cell_type": "markdown",
   "metadata": {},
   "source": [
    "# Evaluate on test data"
   ]
  },
  {
   "cell_type": "code",
   "execution_count": 21,
   "metadata": {
    "scrolled": true
   },
   "outputs": [
    {
     "name": "stdout",
     "output_type": "stream",
     "text": [
      "5400/5400 [==============================] - 6s 1ms/step\n",
      "              precision    recall  f1-score   support\n",
      "\n",
      " REMOVE_ITEM       1.00      1.00      1.00      2995\n",
      "ADD_TO_ORDER       1.00      1.00      1.00      3644\n",
      "    QUANTITY       1.00      1.00      1.00      3876\n",
      " CONJUNCTION       1.00      1.00      1.00      1824\n",
      "END_OF_ORDER       0.99      0.99      0.99       301\n",
      "        ITEM       1.00      1.00      1.00     10860\n",
      "\n",
      " avg / total       1.00      1.00      1.00     23500\n",
      "\n"
     ]
    }
   ],
   "source": [
    "print(evaluate_model_on_test_split(model, X_te, y_te, tag2idx))"
   ]
  },
  {
   "cell_type": "markdown",
   "metadata": {},
   "source": [
    "# Make predictions"
   ]
  },
  {
   "cell_type": "code",
   "execution_count": 22,
   "metadata": {},
   "outputs": [
    {
     "name": "stdout",
     "output_type": "stream",
     "text": [
      "Word           : Pred\n",
      "UNKNOWN        : B-ADD_TO_ORDER\n",
      "want           : I-ADD_TO_ORDER\n",
      "chicken        : B-ITEM\n",
      "sandwich       : I-ITEM\n",
      "ENDPAD         : O\n",
      "ENDPAD         : O\n",
      "ENDPAD         : O\n",
      "ENDPAD         : O\n",
      "ENDPAD         : O\n",
      "ENDPAD         : O\n",
      "ENDPAD         : O\n",
      "ENDPAD         : O\n",
      "ENDPAD         : O\n",
      "ENDPAD         : O\n",
      "ENDPAD         : O\n",
      "ENDPAD         : O\n",
      "ENDPAD         : O\n",
      "ENDPAD         : O\n",
      "ENDPAD         : O\n",
      "ENDPAD         : O\n",
      "ENDPAD         : O\n",
      "ENDPAD         : O\n",
      "ENDPAD         : O\n",
      "ENDPAD         : O\n",
      "ENDPAD         : O\n",
      "ENDPAD         : O\n",
      "ENDPAD         : O\n",
      "ENDPAD         : O\n",
      "ENDPAD         : O\n",
      "ENDPAD         : O\n"
     ]
    }
   ],
   "source": [
    "print(predict(model, 'i want chicken sandwich', max_utterance_length, word2idx, tag2idx))"
   ]
  },
  {
   "cell_type": "code",
   "execution_count": 23,
   "metadata": {},
   "outputs": [
    {
     "name": "stdout",
     "output_type": "stream",
     "text": [
      "Word           : Pred\n",
      "UNKNOWN        : B-ADD_TO_ORDER\n",
      "want           : I-ADD_TO_ORDER\n",
      "chicken        : B-ITEM\n",
      "sandwich       : I-ITEM\n",
      "and            : B-CONJUNCTION\n",
      "remove         : B-REMOVE_ITEM\n",
      "burger         : B-ITEM\n",
      "ENDPAD         : O\n",
      "ENDPAD         : O\n",
      "ENDPAD         : O\n",
      "ENDPAD         : O\n",
      "ENDPAD         : O\n",
      "ENDPAD         : O\n",
      "ENDPAD         : O\n",
      "ENDPAD         : O\n",
      "ENDPAD         : O\n",
      "ENDPAD         : O\n",
      "ENDPAD         : O\n",
      "ENDPAD         : O\n",
      "ENDPAD         : O\n",
      "ENDPAD         : O\n",
      "ENDPAD         : O\n",
      "ENDPAD         : O\n",
      "ENDPAD         : O\n",
      "ENDPAD         : O\n",
      "ENDPAD         : O\n",
      "ENDPAD         : O\n",
      "ENDPAD         : O\n",
      "ENDPAD         : O\n",
      "ENDPAD         : O\n"
     ]
    }
   ],
   "source": [
    "print(predict(model, 'i want chicken sandwich and remove burger', max_utterance_length, word2idx, tag2idx))"
   ]
  },
  {
   "cell_type": "code",
   "execution_count": 24,
   "metadata": {},
   "outputs": [
    {
     "name": "stdout",
     "output_type": "stream",
     "text": [
      "Word           : Pred\n",
      "UNKNOWN        : B-ADD_TO_ORDER\n",
      "want           : I-ADD_TO_ORDER\n",
      "a              : B-QUANTITY\n",
      "chicken        : B-ITEM\n",
      "sandwich       : I-ITEM\n",
      "and            : B-CONJUNCTION\n",
      "remove         : B-REMOVE_ITEM\n",
      "one            : B-QUANTITY\n",
      "burger         : B-ITEM\n",
      "and            : B-CONJUNCTION\n",
      "she            : B-ADD_TO_ORDER\n",
      "need           : I-ADD_TO_ORDER\n",
      "to             : I-ADD_TO_ORDER\n",
      "order          : I-ADD_TO_ORDER\n",
      "french         : B-ITEM\n",
      "fries          : I-ITEM\n",
      "ENDPAD         : O\n",
      "ENDPAD         : O\n",
      "ENDPAD         : O\n",
      "ENDPAD         : O\n",
      "ENDPAD         : O\n",
      "ENDPAD         : O\n",
      "ENDPAD         : O\n",
      "ENDPAD         : O\n",
      "ENDPAD         : O\n",
      "ENDPAD         : O\n",
      "ENDPAD         : O\n",
      "ENDPAD         : O\n",
      "ENDPAD         : O\n",
      "ENDPAD         : O\n"
     ]
    }
   ],
   "source": [
    "print(predict(model, 'i want a chicken sandwich and remove one burger and she need to order french fries', max_utterance_length, word2idx, tag2idx))"
   ]
  },
  {
   "cell_type": "code",
   "execution_count": 25,
   "metadata": {},
   "outputs": [
    {
     "name": "stdout",
     "output_type": "stream",
     "text": [
      "Word           : Pred\n",
      "UNKNOWN        : B-ADD_TO_ORDER\n",
      "want           : I-ADD_TO_ORDER\n",
      "a              : B-QUANTITY\n",
      "chicken        : B-ITEM\n",
      "sandwich       : I-ITEM\n",
      "and            : B-CONJUNCTION\n",
      "ten            : B-QUANTITY\n",
      "ten            : B-ITEM\n",
      "chicken        : I-ITEM\n",
      "strips         : I-ITEM\n",
      "remove         : B-REMOVE_ITEM\n",
      "five           : B-QUANTITY\n",
      "french         : B-ITEM\n",
      "fries          : I-ITEM\n",
      "ENDPAD         : O\n",
      "ENDPAD         : O\n",
      "ENDPAD         : O\n",
      "ENDPAD         : O\n",
      "ENDPAD         : O\n",
      "ENDPAD         : O\n",
      "ENDPAD         : O\n",
      "ENDPAD         : O\n",
      "ENDPAD         : O\n",
      "ENDPAD         : O\n",
      "ENDPAD         : O\n",
      "ENDPAD         : O\n",
      "ENDPAD         : O\n",
      "ENDPAD         : O\n",
      "ENDPAD         : O\n",
      "ENDPAD         : O\n"
     ]
    }
   ],
   "source": [
    "print(predict(model, 'i want a chicken sandwich and ten ten chicken strips remove five french fries', max_utterance_length, word2idx, tag2idx))"
   ]
  },
  {
   "cell_type": "code",
   "execution_count": 26,
   "metadata": {},
   "outputs": [
    {
     "name": "stdout",
     "output_type": "stream",
     "text": [
      "Word           : Pred\n",
      "remove         : B-REMOVE_ITEM\n",
      "a              : B-QUANTITY\n",
      "chicken        : B-ITEM\n",
      "ENDPAD         : O\n",
      "ENDPAD         : O\n",
      "ENDPAD         : O\n",
      "ENDPAD         : O\n",
      "ENDPAD         : O\n",
      "ENDPAD         : O\n",
      "ENDPAD         : O\n",
      "ENDPAD         : O\n",
      "ENDPAD         : O\n",
      "ENDPAD         : O\n",
      "ENDPAD         : O\n",
      "ENDPAD         : O\n",
      "ENDPAD         : O\n",
      "ENDPAD         : O\n",
      "ENDPAD         : O\n",
      "ENDPAD         : O\n",
      "ENDPAD         : O\n",
      "ENDPAD         : O\n",
      "ENDPAD         : O\n",
      "ENDPAD         : O\n",
      "ENDPAD         : O\n",
      "ENDPAD         : O\n",
      "ENDPAD         : O\n",
      "ENDPAD         : O\n",
      "ENDPAD         : O\n",
      "ENDPAD         : O\n",
      "ENDPAD         : O\n"
     ]
    }
   ],
   "source": [
    "print(predict(model, 'remove a chicken', max_utterance_length, word2idx, tag2idx))"
   ]
  }
 ],
 "metadata": {
  "kernelspec": {
   "display_name": "Python 3.5",
   "language": "python",
   "name": "python3"
  },
  "language_info": {
   "codemirror_mode": {
    "name": "ipython",
    "version": 3
   },
   "file_extension": ".py",
   "mimetype": "text/x-python",
   "name": "python",
   "nbconvert_exporter": "python",
   "pygments_lexer": "ipython3",
   "version": "3.5.5"
  }
 },
 "nbformat": 4,
 "nbformat_minor": 2
}

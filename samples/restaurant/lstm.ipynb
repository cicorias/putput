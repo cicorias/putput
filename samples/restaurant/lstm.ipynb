{
 "cells": [
  {
   "cell_type": "markdown",
   "metadata": {
    "colab_type": "text",
    "id": "moSYvHrv8Kbu"
   },
   "source": [
    "# Named entity recognition model built in keras, trained on putput utterances and tokens"
   ]
  },
  {
   "cell_type": "markdown",
   "metadata": {
    "colab_type": "text",
    "id": "MIb95tMm8Kbw"
   },
   "source": [
    "This notebook demonstrates using putput to generate data and train a named entity recognition model. Specifically, the notebook considers the scenario in which customers place orders at a restaurant. Labels follow the <a href=\"https://en.wikipedia.org/wiki/Inside%E2%80%93outside%E2%80%93beginning_(tagging)\">IOB2 format</a>.\n",
    "\n",
    "For instance, given a customer's utterance:\n",
    "* \"can i have a chicken sandwich please and remove the coke\"\n",
    "\n",
    "the model should output the tokens\n",
    "* \"B-ADD_TO_ORDER I-ADD_TO_ORDER I-ADD_TO_ORDER B-QUANTITY B-ITEM I-ITEM O B-REMOVE B-QUANTITY B-ITEM\".\n",
    "\n",
    "and the groups\n",
    "\n",
    "* \"B-ADD_INTENT I-ADD_INTENT I-ADD_INTENT I-ADD_INTENT I-ADD_INTENT I-ADD_INTENT O B-REMOVE_INTENT I-REMOVE_INTENT I-REMOVE_INTENT\".\n",
    "\n",
    "where \"B-\" indicates the beginning of a chunk, \"I-\" indicates inside a chunk, and \"O-\" indicates outside a chunk. In this scenario \"can i have\" is an ADD_TO_ORDER chunk, \"a\" is a QUANTITY chunk, and \"please\" is not part of any chunk.\n",
    "\n",
    "This notebook borrows heavily from [an awesome blog series on deep learning for named entity recognition](https://www.depends-on-the-definition.com/guide-sequence-tagging-neural-networks-python/).\n",
    "\n",
    "**If you would like to run this notebook yourself, you will need a GPU for training the LSTM.**"
   ]
  },
  {
   "cell_type": "code",
   "execution_count": 1,
   "metadata": {
    "ExecuteTime": {
     "end_time": "2019-02-25T22:23:24.887594Z",
     "start_time": "2019-02-25T22:23:20.986893Z"
    },
    "colab": {
     "base_uri": "https://localhost:8080/",
     "height": 34
    },
    "colab_type": "code",
    "executionInfo": {
     "elapsed": 7865,
     "status": "ok",
     "timestamp": 1551206854429,
     "user": {
      "displayName": "Arman",
      "photoUrl": "https://lh4.googleusercontent.com/--9UN543vMkU/AAAAAAAAAAI/AAAAAAABCTQ/cyiHeJEBd6U/s64/photo.jpg",
      "userId": "06639134854516253008"
     },
     "user_tz": 300
    },
    "id": "HkpKs1Cb8Kbw",
    "outputId": "7b2df01d-4293-4882-fbea-eb55684ea395"
   },
   "outputs": [
    {
     "name": "stderr",
     "output_type": "stream",
     "text": [
      "Using TensorFlow backend.\n"
     ]
    }
   ],
   "source": [
    "import itertools\n",
    "import os\n",
    "import random\n",
    "from pathlib import Path\n",
    "\n",
    "import h5py\n",
    "import matplotlib.pyplot as plt\n",
    "import numpy as np\n",
    "import pandas as pd\n",
    "import randomcolor\n",
    "import spacy\n",
    "from keras.layers import (LSTM, Bidirectional, Dense, Dropout, Embedding, TimeDistributed)\n",
    "from keras.models import Input, Model, load_model\n",
    "from keras.preprocessing.sequence import pad_sequences\n",
    "from keras.utils import to_categorical\n",
    "from keras_tqdm import TQDMNotebookCallback\n",
    "from seqeval.metrics import classification_report\n",
    "from sklearn.model_selection import train_test_split\n",
    "from spacy import displacy\n",
    "\n",
    "from putput import ComboOptions, Pipeline"
   ]
  },
  {
   "cell_type": "markdown",
   "metadata": {
    "colab_type": "text",
    "id": "2F_a5DEedH6W"
   },
   "source": [
    "# Define Environment variables"
   ]
  },
  {
   "cell_type": "code",
   "execution_count": 2,
   "metadata": {
    "ExecuteTime": {
     "end_time": "2019-02-25T22:23:31.027800Z",
     "start_time": "2019-02-25T22:23:31.023681Z"
    },
    "colab": {},
    "colab_type": "code",
    "id": "t4chJdOt8Kb0"
   },
   "outputs": [],
   "source": [
    "MAX_SAMPLE_SIZE = 3000\n",
    "EPOCHS = 2\n",
    "BATCH_SIZE = 64\n",
    "random.seed(1)\n",
    "\n",
    "# Ignore this, used for running continuous integration quickly\n",
    "if os.environ.get('CI'):\n",
    "    CI_DATA_SIZE = 10\n",
    "    EPOCHS = 1"
   ]
  },
  {
   "cell_type": "code",
   "execution_count": 3,
   "metadata": {
    "ExecuteTime": {
     "end_time": "2019-02-25T22:23:31.231614Z",
     "start_time": "2019-02-25T22:23:31.227545Z"
    },
    "colab": {},
    "colab_type": "code",
    "id": "cBYNaHDx86U9"
   },
   "outputs": [],
   "source": [
    "try:\n",
    "    pattern_def_path = Path(os.path.dirname(os.path.abspath(__file__))) / \"patterns.yml\"\n",
    "    putput_model_path = Path(os.path.dirname(os.path.abspath(__file__))) / 'multiple_output_lstm_custom_word_emb.h5'\n",
    "except NameError:\n",
    "    pattern_def_path = Path(os.getcwd()) / \"patterns.yml\"\n",
    "    putput_model_path = Path(os.getcwd()) / 'multiple_output_lstm_custom_word_emb.h5'"
   ]
  },
  {
   "cell_type": "code",
   "execution_count": 4,
   "metadata": {
    "ExecuteTime": {
     "end_time": "2019-02-25T22:23:31.471459Z",
     "start_time": "2019-02-25T22:23:31.467447Z"
    },
    "colab": {},
    "colab_type": "code",
    "id": "9cJq6khXwpZL"
   },
   "outputs": [],
   "source": [
    "def random_color_dict(tags, seed=0):\n",
    "    rand_color = randomcolor.RandomColor(seed=seed)\n",
    "    colors = rand_color.generate(count=len(tags), luminosity='light')\n",
    "    return dict(zip(tags, colors))"
   ]
  },
  {
   "cell_type": "code",
   "execution_count": 5,
   "metadata": {
    "ExecuteTime": {
     "end_time": "2019-02-25T22:23:31.636948Z",
     "start_time": "2019-02-25T22:23:31.633571Z"
    },
    "colab": {},
    "colab_type": "code",
    "id": "cKdGm-wcwpZN"
   },
   "outputs": [],
   "source": [
    "def clean_bio_tag(tag):\n",
    "    if tag.startswith('I-') or tag.startswith('B-'):\n",
    "        return tag[2:]\n",
    "    return tag"
   ]
  },
  {
   "cell_type": "code",
   "execution_count": 6,
   "metadata": {
    "ExecuteTime": {
     "end_time": "2019-02-25T22:23:31.795968Z",
     "start_time": "2019-02-25T22:23:31.790069Z"
    },
    "colab": {},
    "colab_type": "code",
    "id": "QPnoILjrwpZP"
   },
   "outputs": [],
   "source": [
    "def to_visualizer(words, tags, title):\n",
    "    current_letter_index = 0\n",
    "    ents = []\n",
    "    for word, tag in zip(words, tags): \n",
    "        if tag[0] == 'I' and len(ents) > 0:\n",
    "            ents[-1]['end'] += len(word) + 1\n",
    "        else:\n",
    "            ent = {'start': current_letter_index,\n",
    "                   'end': current_letter_index + len(word) + 1,\n",
    "                   'label': tag.split('-')[-1]}\n",
    "            ents.append(ent)\n",
    "        current_letter_index += len(word) + 1\n",
    "    return {'text': ' '.join(words),\n",
    "           'ents': ents,\n",
    "           'title': title}"
   ]
  },
  {
   "cell_type": "code",
   "execution_count": 7,
   "metadata": {
    "ExecuteTime": {
     "end_time": "2019-02-25T22:23:32.568026Z",
     "start_time": "2019-02-25T22:23:32.563165Z"
    },
    "colab": {},
    "colab_type": "code",
    "id": "w1wyoM2QwpZR"
   },
   "outputs": [],
   "source": [
    "def display_sentence(utterance, tokens, groups, options, suffix=''):\n",
    "    sentence_visualizer = {'text': ' '.join(utterance), 'ents': [], 'title': 'SENTENCE' + suffix}\n",
    "    token_visualizer = to_visualizer(utterance, tokens, 'TOKENS')\n",
    "    group_visualizer = to_visualizer(utterance, groups, 'GROUPS')\n",
    "    displacy.render([sentence_visualizer, token_visualizer, group_visualizer], style='ent', manual=True, jupyter=True, options=options)"
   ]
  },
  {
   "cell_type": "code",
   "execution_count": 8,
   "metadata": {
    "ExecuteTime": {
     "end_time": "2019-02-25T22:23:32.759071Z",
     "start_time": "2019-02-25T22:23:32.754914Z"
    },
    "colab": {},
    "colab_type": "code",
    "id": "LhAmHHgCwpZT"
   },
   "outputs": [],
   "source": [
    "def display_sentences(utterances, utterance_tokens, utterance_groups, options, sample_size):\n",
    "    indicies = random.sample(range(0, len(utterances)), sample_size)\n",
    "    for sample_index in indicies:\n",
    "        display_sentence(utterances[sample_index],\n",
    "                         utterance_tokens[sample_index],\n",
    "                         utterance_groups[sample_index],\n",
    "                         options,\n",
    "                         suffix=' {}:'.format(sample_index))\n",
    "        print()"
   ]
  },
  {
   "cell_type": "markdown",
   "metadata": {
    "colab_type": "text",
    "id": "0MxZ57K38Kb0"
   },
   "source": [
    "# How to use putput"
   ]
  },
  {
   "cell_type": "markdown",
   "metadata": {
    "colab_type": "text",
    "id": "HnEUfoQkdsmD"
   },
   "source": [
    "### 1) Pattern definition file:\n",
    "let's take a look at our pattern definition file "
   ]
  },
  {
   "cell_type": "code",
   "execution_count": 9,
   "metadata": {
    "ExecuteTime": {
     "end_time": "2019-02-25T22:23:33.579003Z",
     "start_time": "2019-02-25T22:23:33.450204Z"
    },
    "colab": {
     "base_uri": "https://localhost:8080/",
     "height": 2992
    },
    "colab_type": "code",
    "executionInfo": {
     "elapsed": 1250,
     "status": "ok",
     "timestamp": 1551206906738,
     "user": {
      "displayName": "Arman",
      "photoUrl": "https://lh4.googleusercontent.com/--9UN543vMkU/AAAAAAAAAAI/AAAAAAABCTQ/cyiHeJEBd6U/s64/photo.jpg",
      "userId": "06639134854516253008"
     },
     "user_tz": 300
    },
    "id": "0lE28S3beJDX",
    "outputId": "033636fe-1066-4082-9f49-a2d2d25cabd3"
   },
   "outputs": [
    {
     "name": "stdout",
     "output_type": "stream",
     "text": [
      "base_tokens:\n",
      "  - SUBJECT_PERSONAL_PRONOUN: [i, he, she, we, they]\n",
      "  - OBJECT_PERSONAL_PRONOUN: [me, him, her, us]\n",
      "  - SUBJECT_PERSONAL_PRONOUN_IS: [i'm, i am, he is, he's, she is, she's, they are, they're,\n",
      "                                  we are, we're, everyone is, everyone's, everbody is,\n",
      "                                  everbody's, everything is, everything's]\n",
      "token_patterns:\n",
      "  - static:\n",
      "    - ADD:\n",
      "      - [[can, may, could], SUBJECT_PERSONAL_PRONOUN, [get, have, order, take, do]]\n",
      "      - [SUBJECT_PERSONAL_PRONOUN, [\"'d\", \"'ll\"], [like, have, take, get, want, need, order]]\n",
      "      - [[set, hook], OBJECT_PERSONAL_PRONOUN, [up with]]\n",
      "      - [[give, order], OBJECT_PERSONAL_PRONOUN]\n",
      "      - [SUBJECT_PERSONAL_PRONOUN, [\"'d\", \"'ll\"], [like, have, want, need],\n",
      "         [to get, to have, to take, to order, to do]]\n",
      "      - [SUBJECT_PERSONAL_PRONOUN, \n",
      "         [need, would need, will need, would like, would want, want, will have, will want],\n",
      "         [to get, to have, to take, to order, to do]]\n",
      "      - [SUBJECT_PERSONAL_PRONOUN, [will, would], [get, have, take, order, do, like, want]]\n",
      "      - [SUBJECT_PERSONAL_PRONOUN, [want, like]]\n",
      "    - CONJUNCTION:\n",
      "      - [[and]]\n",
      "    - END_OF_ORDER:\n",
      "      - [[bye, okay]]\n",
      "      - [SUBJECT_PERSONAL_PRONOUN_IS,\n",
      "         [done, ready, fine, good, okay, finished, all good, all okay,\n",
      "          all done, all finished, all ready, all fine, all good]]\n",
      "      - [[thank you, thanks, thanks so much, thanks a lot, thank you so much,\n",
      "          thanks for your help, thanks, I appreciate it, thanks appreciate it,\n",
      "          I really appreciate it, thanks a bunch]]\n",
      "      - [[that], [is, \"'s\", \"'ll be\", will be, \"'ll do\", should be, will do, should do],\n",
      "         [all, everything, it, good, fine, okay]]\n",
      "    - REMOVE:\n",
      "      - [[lose, remove, drop, forget, skip, cancel, leave off, without, sans], [the, those]]\n",
      "      - [[lose, remove, drop, forget, skip, cancel, leave off, without, sans]]\n",
      "    - SUBSTITUTE_WITH_TARGET:\n",
      "      - [[actually, can you, actually can you], [change, swap, make, replace, substitute, switch]]\n",
      "      - [[change, swap, make, can you make, replace, substitute, switch]]\n",
      "    - MEAL_UPGRADE: \n",
      "      - [[combo, meal, combo meal]]\n",
      "    - POSITION:\n",
      "      - [[last, first, second, third, fourth, fifth]]\n",
      "      - [[last, first, second, third, fourth, fifth], [one, item]]\n",
      "    - ESCALATION:\n",
      "      - [[help, frustrating, frustrated]]\n",
      "      - [SUBJECT_PERSONAL_PRONOUN, [want, need, would like], [help]]\n",
      "      - [[this is], [frustrating, annoying]]\n",
      "      - [[that's not what], SUBJECT_PERSONAL_PRONOUN, [ordered, wanted, asked, said]]\n",
      "    - PREPOSITION_TARGET_BACK:\n",
      "      - [[with, to]]\n",
      "    - PREPOSITION_TARGET_FORWARD:\n",
      "      - [['on', from]]\n",
      "    - PRONOUN:\n",
      "      - [[that, them, those]]\n",
      "    - PRONOUN_REMAINING:\n",
      "      - [[both, other]]\n",
      "    - PRONOUN_ALL: \n",
      "      - [[all, any], [of them, of those, them, those]]\n",
      "      - [[anything, everything]]\n",
      "      - [[none], [of them, of those, them, those]]\n",
      "      - [[every], [thing, one, one of those]]\n",
      "    - SIZE:\n",
      "      - [[small, tall, medium, grande, large, venti, extra large, extra small]]\n",
      "    - FLAVOR: \n",
      "      - [[chocolate, strawberry, vanilla, pumpkin spice]]\n",
      "    - FOR:\n",
      "      - [[for, to]]\n",
      "    - THE:\n",
      "      - [[the]]\n",
      "    - PREPOSITION_QUANTITY:\n",
      "      - [[of]]\n",
      "    - NEED_MORE_TIME:\n",
      "      - [[wait, hold on, hang on, a minute, a moment, one minute, one moment,\n",
      "          give me a moment, give me a minute, me a moment, just a minute]]\n",
      "      - [SUBJECT_PERSONAL_PRONOUN, [need], [more time, a moment, a minute]]\n",
      "  - dynamic:\n",
      "    - ITEM\n",
      "    - QUANTITY\n",
      "groups:\n",
      "  - ADD_ITEMS: [ITEM, 1-5]\n",
      "  - ADD_QUANTITY_ITEM: [QUANTITY, ITEM]\n",
      "  - ADD_CONJUNCTION_ITEM: [CONJUNCTION, ITEM]\n",
      "  - ADD_CONJUNCTION_QUANTITY_ITEM: [CONJUNCTION, ADD_QUANTITY_ITEM]\n",
      "  - ADD_ADD_ITEM: [ADD, ITEM]\n",
      "  - ADD_ADD_ITEMS: [ADD, ADD_ITEMS]\n",
      "  - ADD_ADD_WITH_ITEM: [ADD_ADD_ITEM_QUANTITY, PREPOSITION_TARGET_BACK, ITEM]\n",
      "  - ADD_ADD_WITH_QUANTITY_ITEM: [ADD_ADD_ITEM_QUANTITY, PREPOSITION_TARGET_BACK, ADD_QUANTITY_ITEM]\n",
      "  - ADD_ADD_WITH_MULTIPLE: [ADD_ADD_ITEM_QUANTITY, PREPOSITION_TARGET_BACK, ADD_QUANTITY_ITEM,\n",
      "                            ADD_CONJUNCTION_QUANTITY_ITEM, 1-2]\n",
      "  - ADD_ADD_WITH_ALL: [ADD_ADD_ITEM_QUANTITY, PREPOSITION_TARGET_BACK, ADD_QUANTITY_ITEM,\n",
      "                       PREPOSITION_TARGET_FORWARD, PRONOUN_ALL]\n",
      "  - ADD_ADD_ALL_WITH: [ADD_ADD_ITEM_QUANTITY, PRONOUN_ALL, PREPOSITION_TARGET_BACK, ADD_QUANTITY_ITEM]\n",
      "  - ADD_ADD_ITEM_QUANTITY: [ADD, ADD_QUANTITY_ITEM]\n",
      "  - ADD_ADD_ITEMS_QUANTITY: [ADD, ADD_QUANTITY_ITEM, 1-5]\n",
      "  - ADD_ADD_ITEMS_CONJUNCTION_ITEM: [ADD_ADD_ITEM_QUANTITY, ADD_CONJUNCTION_ITEM, 1-5]\n",
      "  - ADD_ADD_ITEMS_CONJUNCTION_QUANTITY_ITEM: [ADD_ADD_ITEM_QUANTITY, ADD_CONJUNCTION_QUANTITY_ITEM, 1-4]\n",
      "# REMOVE\n",
      "  - REMOVE_CONJUNCTION_QUANTITY_ITEM: [REMOVE, CONJUNCTION, ADD_QUANTITY_ITEM]\n",
      "  - REMOVE_ITEM: [REMOVE, ITEM]\n",
      "  - REMOVE_ITEMS: [REMOVE, ADD_ITEMS]\n",
      "  - REMOVE_ITEM_POSITION: [REMOVE, THE, POSITION, ITEM]\n",
      "  - REMOVE_ITEMS_QUANTITY: [REMOVE, ADD_QUANTITY_ITEM, 1-5]\n",
      "  - REMOVE_ITEMS_CONJUNCTION_ITEM: [REMOVE, ADD_CONJUNCTION_ITEM, 1-5]\n",
      "  - REMOVE_ITEMS_CONJUNCTION_QUANTITY_ITEM: [REMOVE, ADD_CONJUNCTION_QUANTITY_ITEM, 1-5]\n",
      "  - REMOVE_WITH_ALL: [REMOVE, ADD_QUANTITY_ITEM, PREPOSITION_TARGET_FORWARD, PRONOUN_ALL]\n",
      "  - REMOVE_ALL_WITH: [PRONOUN_ALL, REMOVE, ADD_QUANTITY_ITEM]\n",
      "# SUBSTITUTE\n",
      "  - SUBSTITUTE_ITEM_FOR_ITEM: [SUBSTITUTE_WITH_TARGET, THE, ITEM, FOR, ADD_QUANTITY_ITEM]\n",
      "  - SUBSTITUTE_ITEM_QUANTITY_SIZE: [SUBSTITUTE_WITH_TARGET, QUANTITY, PREPOSITION_QUANTITY, PRONOUN, SIZE]\n",
      "  - SUBSTITUTE_ITEM_SIZE: [SUBSTITUTE_WITH_TARGET, PRONOUN, SIZE]\n",
      "  - SUBSTITUTE_ITEM_QUANTITY_FLAVOR: [SUBSTITUTE_WITH_TARGET, QUANTITY, PREPOSITION_QUANTITY, PRONOUN, FLAVOR]\n",
      "  - SUBSTITUTE_ITEM_FLAVOR: [SUBSTITUTE_WITH_TARGET, PRONOUN, FLAVOR]\n",
      "  - SUBSTITUTE_ITEM_QUANTITY: [SUBSTITUTE_WITH_TARGET, PRONOUN, QUANTITY]\n",
      "  - SUBSTITUTE_POSITION_FOR_ITEM: [SUBSTITUTE_WITH_TARGET, THE, POSITION, FOR, ADD_QUANTITY_ITEM]\n",
      "  - SUBSTITUTE_PRONOUN_FOR_ITEM: [SUBSTITUTE_WITH_TARGET, PRONOUN, FOR, ADD_QUANTITY_ITEM]\n",
      "  - SUBSTITUTE_ITEM: [SUBSTITUTE_WITH_TARGET, THE, ITEM, FOR, ADD_QUANTITY_ITEM]\n",
      "  - SUBSTITUTE_MEAL_UPGRADE: [SUBSTITUTE_WITH_TARGET, PRONOUN, QUANTITY, MEAL_UPGRADE]\n",
      "utterance_patterns:\n",
      "# Single\n",
      "  - [ADD_ITEMS]\n",
      "  - [ADD_ADD_WITH_MULTIPLE]\n",
      "  - [ADD_ADD_WITH_QUANTITY_ITEM]\n",
      "  - [ADD_ADD_WITH_ITEM]\n",
      "  - [ADD_ADD_WITH_ALL]\n",
      "  - [ADD_ADD_ALL_WITH]\n",
      "  - [ADD_ADD_ITEMS]\n",
      "  - [REMOVE_ITEMS]\n",
      "  - [REMOVE_ITEMS_QUANTITY]\n",
      "  - [REMOVE_ITEMS_CONJUNCTION_ITEM]\n",
      "  - [REMOVE_ITEMS_CONJUNCTION_QUANTITY_ITEM]\n",
      "  - [REMOVE_WITH_ALL]\n",
      "  - [REMOVE_ALL_WITH]\n",
      "  - [SUBSTITUTE_ITEM_FOR_ITEM]\n",
      "  - [SUBSTITUTE_ITEM_QUANTITY_SIZE]\n",
      "  - [SUBSTITUTE_ITEM_SIZE]\n",
      "  - [SUBSTITUTE_ITEM_FLAVOR]\n",
      "  - [SUBSTITUTE_ITEM_QUANTITY_FLAVOR]\n",
      "  - [SUBSTITUTE_ITEM_QUANTITY]\n",
      "  - [SUBSTITUTE_POSITION_FOR_ITEM]\n",
      "  - [SUBSTITUTE_PRONOUN_FOR_ITEM]\n",
      "  - [SUBSTITUTE_ITEM]\n",
      "  - [SIZE]\n",
      "  - [FLAVOR]\n",
      "  - [SUBSTITUTE_MEAL_UPGRADE]\n",
      "  - [ADD_ADD_ITEMS_QUANTITY]\n",
      "  - [ADD_ADD_ITEMS_CONJUNCTION_ITEM]\n",
      "  - [ADD_ADD_ITEMS_CONJUNCTION_QUANTITY_ITEM]\n",
      "  - [END_OF_ORDER]\n",
      "  - [NEED_MORE_TIME]\n",
      "# Complex\n",
      "  - [ADD_ADD_ITEM_QUANTITY, CONJUNCTION, SUBSTITUTE_MEAL_UPGRADE]\n",
      "  - [ADD_ADD_ITEM_QUANTITY, CONJUNCTION,  REMOVE_ITEM_POSITION]\n",
      "  - [ADD_ADD_ITEM_QUANTITY, CONJUNCTION, REMOVE_WITH_ALL]\n",
      "  - [ADD_ADD_ITEM_QUANTITY, CONJUNCTION, REMOVE_ALL_WITH]\n",
      "  - [ADD_ADD_ITEM_QUANTITY, CONJUNCTION, REMOVE_ITEM, CONJUNCTION, ADD_ADD_ITEM_QUANTITY]\n",
      "  - [ADD_ADD_ITEM_QUANTITY, REMOVE_ITEM, ADD_ADD_ITEM_QUANTITY, CONJUNCTION, SUBSTITUTE_MEAL_UPGRADE]\n",
      "  - [REMOVE_ITEM, CONJUNCTION, ADD_ADD_ITEM_QUANTITY, END_OF_ORDER]\n",
      "  - [ADD_ADD_ITEM_QUANTITY, REMOVE_ITEM, CONJUNCTION, ADD_ADD_ITEM_QUANTITY]\n",
      "  - [ADD_QUANTITY_ITEM, 1-5, END_OF_ORDER]\n",
      "  - [ADD_QUANTITY_ITEM, SUBSTITUTE_ITEM_QUANTITY]\n",
      "  - [ADD_ADD_ITEM_QUANTITY, REMOVE_ITEM, END_OF_ORDER]\n",
      "  - [ADD_ADD_ITEM_QUANTITY, CONJUNCTION, REMOVE_ITEM]\n",
      "  - [REMOVE_ITEM, CONJUNCTION, SUBSTITUTE_PRONOUN_FOR_ITEM, CONJUNCTION, ADD_ADD_ITEM_QUANTITY]\n",
      "  - [ADD_ADD_ITEM_QUANTITY, CONJUNCTION, SUBSTITUTE_ITEM_FOR_ITEM, CONJUNCTION, REMOVE_ITEM]\n",
      "  - [REMOVE_ITEM, ADD_ADD_ITEM_QUANTITY]\n",
      "  - [ADD_QUANTITY_ITEM, REMOVE_ITEM]\n",
      "  - [ADD_QUANTITY_ITEM, REMOVE_ITEM, CONJUNCTION, ADD_ADD_ITEM_QUANTITY]\n"
     ]
    },
    {
     "name": "stdout",
     "output_type": "stream",
     "text": [
      "  - [ADD_ADD_ITEMS_QUANTITY, CONJUNCTION,  SUBSTITUTE_ITEM_FOR_ITEM]\n",
      "  - [ADD_ADD_ITEMS_QUANTITY, SUBSTITUTE_ITEM_QUANTITY_SIZE]\n",
      "  - [ADD_ADD_ITEMS_QUANTITY, CONJUNCTION, SUBSTITUTE_ITEM_SIZE]\n",
      "  - [ADD_ADD_ITEMS_QUANTITY, SUBSTITUTE_POSITION_FOR_ITEM]\n",
      "  - [ADD_ADD_ITEMS_CONJUNCTION_QUANTITY_ITEM, SUBSTITUTE_POSITION_FOR_ITEM]\n",
      "  - [ADD_ADD_ITEMS_QUANTITY, SUBSTITUTE_PRONOUN_FOR_ITEM]\n",
      "  - [ADD_ADD_ITEMS_QUANTITY, SUBSTITUTE_ITEM]\n",
      "  - [SUBSTITUTE_ITEM_FOR_ITEM, CONJUNCTION, ADD_ADD_ITEM_QUANTITY, CONJUNCTION, REMOVE_ITEM]\n"
     ]
    }
   ],
   "source": [
    "if not os.environ.get('CI'):\n",
    "    ! cat \"{str(pattern_def_path)}\""
   ]
  },
  {
   "cell_type": "markdown",
   "metadata": {
    "colab_type": "text",
    "id": "VoXDNcQwclSb"
   },
   "source": [
    "### 2) Define dynamic tokens:\n",
    "In the real world the items would most likely be pulled in from some menu service and inserted here, but you get the idea."
   ]
  },
  {
   "cell_type": "code",
   "execution_count": 10,
   "metadata": {
    "ExecuteTime": {
     "end_time": "2019-02-25T22:23:34.270911Z",
     "start_time": "2019-02-25T22:23:34.266868Z"
    },
    "colab": {},
    "colab_type": "code",
    "id": "z0Jofao6cgFX"
   },
   "outputs": [],
   "source": [
    "dynamic_token_patterns_map = {\n",
    "  \"ITEM\": (((\"burger\", \"hamburger\", \"coke\", \"french fries\", \"chicken sandwich\", \"ten chicken strips\"),),),\n",
    "  \"QUANTITY\": (((\"a\", \"no\", \"extra\", \"the\", \"one\", \"two\", \"three\", \"four\", \"five\", \"six\", \"seven\", \"eight\", \"nine\", \"ten\"),),),\n",
    "}"
   ]
  },
  {
   "cell_type": "markdown",
   "metadata": {
    "colab_type": "text",
    "id": "2yF8nckiwpZd"
   },
   "source": [
    "### 3) [Optional] Define combination options"
   ]
  },
  {
   "cell_type": "code",
   "execution_count": 11,
   "metadata": {
    "ExecuteTime": {
     "end_time": "2019-02-25T22:23:35.095367Z",
     "start_time": "2019-02-25T22:23:35.091582Z"
    },
    "colab": {},
    "colab_type": "code",
    "id": "EJIbhUJIwpZe"
   },
   "outputs": [],
   "source": [
    "# Define how we want to generate utterances and sample size. More info here:\n",
    "# https://github.com/michaelperel/putput/blob/00877147373690f8cc6ad16f164c2a44ba728c62/putput/joiner.py#L17\n",
    "combo_options_map = {\n",
    "    'DEFAULT': ComboOptions(max_sample_size=MAX_SAMPLE_SIZE, with_replacement=True, seed=0)\n",
    "}"
   ]
  },
  {
   "cell_type": "markdown",
   "metadata": {
    "colab_type": "text",
    "id": "zTwTmNgNwpZf"
   },
   "source": [
    "### 4) [Optional] Define expansion hooks, combination hooks, or final hooks:"
   ]
  },
  {
   "cell_type": "code",
   "execution_count": 12,
   "metadata": {
    "ExecuteTime": {
     "end_time": "2019-02-25T22:23:35.713228Z",
     "start_time": "2019-02-25T22:23:35.707292Z"
    },
    "colab": {},
    "colab_type": "code",
    "id": "gUKB0Anw8Kb3"
   },
   "outputs": [],
   "source": [
    "# This function buckets groups into either REMOVE, SUBSTITUTE, ADD, or None.\n",
    "# We do this because a lot of the groups overlap so we want to put them into general groupings\n",
    "def _generalize_groups(utterance, handled_tokens, handled_groups):\n",
    "    new_handled_groups = []\n",
    "    for groups in handled_groups:\n",
    "        new_groups = []\n",
    "        for group in groups.split():\n",
    "            prefix = ''\n",
    "            if '-' in group:\n",
    "                prefix = group[:2]\n",
    "            if 'REMOVE' in group:\n",
    "                new_groups.append(prefix + 'REMOVE')\n",
    "            elif 'SUBSTITUTE' in group:\n",
    "                new_groups.append(prefix +'SUBSTITUTE')\n",
    "            elif 'None' in group:\n",
    "                new_groups.append('None')\n",
    "            else:\n",
    "                new_groups.append(prefix + 'ADD')\n",
    "        new_handled_groups.append(' '.join(new_groups))\n",
    "    return utterance, handled_tokens, new_handled_groups"
   ]
  },
  {
   "cell_type": "code",
   "execution_count": 13,
   "metadata": {
    "ExecuteTime": {
     "end_time": "2019-02-25T22:23:36.084162Z",
     "start_time": "2019-02-25T22:23:36.080357Z"
    },
    "colab": {},
    "colab_type": "code",
    "id": "_H8lfDRAwpZi"
   },
   "outputs": [],
   "source": [
    "# This function converts the final output to lists of words, tokens, and groups.\n",
    "def _output_to_lists(utterance, tokens, groups):\n",
    "    return utterance.replace(\" '\", \"'\").split(), ' '.join(tokens).split(), ' '.join(groups).split()"
   ]
  },
  {
   "cell_type": "code",
   "execution_count": 14,
   "metadata": {
    "ExecuteTime": {
     "end_time": "2019-02-25T22:23:36.374655Z",
     "start_time": "2019-02-25T22:23:36.371958Z"
    },
    "colab": {},
    "colab_type": "code",
    "id": "8ZRwwvsLwpZl"
   },
   "outputs": [],
   "source": [
    "combo_hooks_map = {\n",
    "    'DEFAULT': (_generalize_groups,_output_to_lists)\n",
    "}"
   ]
  },
  {
   "cell_type": "markdown",
   "metadata": {
    "colab_type": "text",
    "id": "nAJMr9JnwpZn"
   },
   "source": [
    "### 5) Create and use putput pipeline to generate utterances, tokens, and groups:"
   ]
  },
  {
   "cell_type": "code",
   "execution_count": 15,
   "metadata": {
    "ExecuteTime": {
     "end_time": "2019-02-25T22:23:37.120128Z",
     "start_time": "2019-02-25T22:23:37.114973Z"
    },
    "colab": {},
    "colab_type": "code",
    "id": "YygHzJIf8Kb5"
   },
   "outputs": [],
   "source": [
    "def compute_utterances_and_tokens_and_groups(pattern_def_path): \n",
    "    # We choose the IOB preset for use in training a Named Entity Recognition model\n",
    "    iob_pipeline = Pipeline.from_preset('IOB2',\n",
    "                                         pattern_def_path,\n",
    "                                         dynamic_token_patterns_map=dynamic_token_patterns_map,\n",
    "                                         combo_options_map=combo_options_map,\n",
    "                                         combo_hooks_map=combo_hooks_map,\n",
    "                                        )\n",
    "    \n",
    "    # putput outputs to a generator for efficient use of memory \n",
    "    iob_generator = iob_pipeline.flow(disable_progress_bar=True)\n",
    "    \n",
    "    # Ignore this, used for running continuous integration\n",
    "    if os.environ.get('CI'):\n",
    "        iob_generator = itertools.islice(iob_generator, CI_DATA_SIZE)\n",
    "    \n",
    "    # Unpack generator\n",
    "    utterances, utterance_tokens, utterance_groups = zip(*iob_generator)\n",
    "    return utterances, utterance_tokens, utterance_groups"
   ]
  },
  {
   "cell_type": "code",
   "execution_count": 16,
   "metadata": {
    "ExecuteTime": {
     "end_time": "2019-02-25T22:23:38.260211Z",
     "start_time": "2019-02-25T22:23:37.447233Z"
    },
    "colab": {
     "base_uri": "https://localhost:8080/",
     "height": 255
    },
    "colab_type": "code",
    "executionInfo": {
     "elapsed": 21910,
     "status": "ok",
     "timestamp": 1551206945440,
     "user": {
      "displayName": "Arman",
      "photoUrl": "https://lh4.googleusercontent.com/--9UN543vMkU/AAAAAAAAAAI/AAAAAAABCTQ/cyiHeJEBd6U/s64/photo.jpg",
      "userId": "06639134854516253008"
     },
     "user_tz": 300
    },
    "id": "hTaEucqwwpZs",
    "outputId": "3c8e37b6-280d-42c2-d77b-8172c5e75fd3"
   },
   "outputs": [
    {
     "name": "stdout",
     "output_type": "stream",
     "text": [
      "Generated: 366000 utterances and 366000 tokens and 366000 groups\n"
     ]
    }
   ],
   "source": [
    "utterances, utterance_tokens, utterance_groups = compute_utterances_and_tokens_and_groups(pattern_def_path)\n",
    "print('Generated: {} utterances and {} tokens and {} groups'.format(len(utterances), len(utterance_tokens), len(utterance_groups)))"
   ]
  },
  {
   "cell_type": "code",
   "execution_count": 17,
   "metadata": {
    "ExecuteTime": {
     "end_time": "2019-02-25T22:23:38.266101Z",
     "start_time": "2019-02-25T22:23:38.262849Z"
    },
    "colab": {
     "base_uri": "https://localhost:8080/",
     "height": 68
    },
    "colab_type": "code",
    "executionInfo": {
     "elapsed": 19458,
     "status": "ok",
     "timestamp": 1551206945442,
     "user": {
      "displayName": "Arman",
      "photoUrl": "https://lh4.googleusercontent.com/--9UN543vMkU/AAAAAAAAAAI/AAAAAAABCTQ/cyiHeJEBd6U/s64/photo.jpg",
      "userId": "06639134854516253008"
     },
     "user_tz": 300
    },
    "id": "jF6V7fAYwpZu",
    "outputId": "c5e307f2-f896-4a7a-8a62-98f649f4a3a8"
   },
   "outputs": [
    {
     "name": "stdout",
     "output_type": "stream",
     "text": [
      "['french', 'fries', 'french', 'fries', 'ten', 'chicken', 'strips', 'coke']\n",
      "['B-ITEM', 'I-ITEM', 'B-ITEM', 'I-ITEM', 'B-ITEM', 'I-ITEM', 'I-ITEM', 'B-ITEM']\n",
      "['B-ADD', 'I-ADD', 'I-ADD', 'I-ADD', 'I-ADD', 'I-ADD', 'I-ADD', 'I-ADD']\n"
     ]
    }
   ],
   "source": [
    "print(utterances[0])\n",
    "print(utterance_tokens[0])\n",
    "print(utterance_groups[0])"
   ]
  },
  {
   "cell_type": "markdown",
   "metadata": {
    "colab_type": "text",
    "id": "vR_JQMohwpZw"
   },
   "source": [
    "## [Optional] Displacy"
   ]
  },
  {
   "cell_type": "code",
   "execution_count": 18,
   "metadata": {
    "ExecuteTime": {
     "end_time": "2019-02-25T22:23:39.407766Z",
     "start_time": "2019-02-25T22:23:39.223091Z"
    },
    "colab": {},
    "colab_type": "code",
    "id": "Xj9ZYm3IwpZx"
   },
   "outputs": [],
   "source": [
    "# [OPTIONAL] This is just for making displacy pretty with a color map\n",
    "# we generate a tag to color dictionary for displacy to use\n",
    "unique_tokens = set([clean_bio_tag(token) for tokens in utterance_tokens for token in tokens])\n",
    "unique_groups = set([clean_bio_tag(group) for groups in utterance_groups for group in groups])\n",
    "unique_tags = list(unique_tokens | unique_groups)\n",
    "color_dict = random_color_dict(unique_tags, seed=1)\n",
    "displacy_options = {'ents': unique_tags, 'colors': color_dict}"
   ]
  },
  {
   "cell_type": "code",
   "execution_count": 19,
   "metadata": {
    "ExecuteTime": {
     "end_time": "2019-02-25T22:23:39.697717Z",
     "start_time": "2019-02-25T22:23:39.580050Z"
    },
    "colab": {
     "base_uri": "https://localhost:8080/",
     "height": 1017
    },
    "colab_type": "code",
    "executionInfo": {
     "elapsed": 22852,
     "status": "ok",
     "timestamp": 1551206952179,
     "user": {
      "displayName": "Arman",
      "photoUrl": "https://lh4.googleusercontent.com/--9UN543vMkU/AAAAAAAAAAI/AAAAAAABCTQ/cyiHeJEBd6U/s64/photo.jpg",
      "userId": "06639134854516253008"
     },
     "user_tz": 300
    },
    "id": "n31zFTyBwpZz",
    "outputId": "967f5c1b-42e3-4546-9ab8-72c6fb3630ad",
    "scrolled": true
   },
   "outputs": [
    {
     "data": {
      "text/html": [
       "<h2 style=\"margin: 0\">SENTENCE 334378:</h2>\n",
       "\n",
       "<div class=\"entities\" style=\"line-height: 2.5\">they would do extra ten chicken strips five coke a french fries and can you make the ten chicken strips to seven burger</div>\n",
       "\n",
       "<h2 style=\"margin: 0\">TOKENS</h2>\n",
       "\n",
       "<div class=\"entities\" style=\"line-height: 2.5\">\n",
       "<mark class=\"entity\" style=\"background: #a7e5f9; padding: 0.45em 0.6em; margin: 0 0.25em; line-height: 1; border-radius: 0.35em; box-decoration-break: clone; -webkit-box-decoration-break: clone\">\n",
       "    they would do \n",
       "    <span style=\"font-size: 0.8em; font-weight: bold; line-height: 1; border-radius: 0.35em; text-transform: uppercase; vertical-align: middle; margin-left: 0.5rem\">ADD</span>\n",
       "</mark>\n",
       "\n",
       "<mark class=\"entity\" style=\"background: #99fcd3; padding: 0.45em 0.6em; margin: 0 0.25em; line-height: 1; border-radius: 0.35em; box-decoration-break: clone; -webkit-box-decoration-break: clone\">\n",
       "    extra \n",
       "    <span style=\"font-size: 0.8em; font-weight: bold; line-height: 1; border-radius: 0.35em; text-transform: uppercase; vertical-align: middle; margin-left: 0.5rem\">QUANTITY</span>\n",
       "</mark>\n",
       "\n",
       "<mark class=\"entity\" style=\"background: #ef94ce; padding: 0.45em 0.6em; margin: 0 0.25em; line-height: 1; border-radius: 0.35em; box-decoration-break: clone; -webkit-box-decoration-break: clone\">\n",
       "    ten chicken strips \n",
       "    <span style=\"font-size: 0.8em; font-weight: bold; line-height: 1; border-radius: 0.35em; text-transform: uppercase; vertical-align: middle; margin-left: 0.5rem\">ITEM</span>\n",
       "</mark>\n",
       "\n",
       "<mark class=\"entity\" style=\"background: #99fcd3; padding: 0.45em 0.6em; margin: 0 0.25em; line-height: 1; border-radius: 0.35em; box-decoration-break: clone; -webkit-box-decoration-break: clone\">\n",
       "    five \n",
       "    <span style=\"font-size: 0.8em; font-weight: bold; line-height: 1; border-radius: 0.35em; text-transform: uppercase; vertical-align: middle; margin-left: 0.5rem\">QUANTITY</span>\n",
       "</mark>\n",
       "\n",
       "<mark class=\"entity\" style=\"background: #ef94ce; padding: 0.45em 0.6em; margin: 0 0.25em; line-height: 1; border-radius: 0.35em; box-decoration-break: clone; -webkit-box-decoration-break: clone\">\n",
       "    coke \n",
       "    <span style=\"font-size: 0.8em; font-weight: bold; line-height: 1; border-radius: 0.35em; text-transform: uppercase; vertical-align: middle; margin-left: 0.5rem\">ITEM</span>\n",
       "</mark>\n",
       "\n",
       "<mark class=\"entity\" style=\"background: #99fcd3; padding: 0.45em 0.6em; margin: 0 0.25em; line-height: 1; border-radius: 0.35em; box-decoration-break: clone; -webkit-box-decoration-break: clone\">\n",
       "    a \n",
       "    <span style=\"font-size: 0.8em; font-weight: bold; line-height: 1; border-radius: 0.35em; text-transform: uppercase; vertical-align: middle; margin-left: 0.5rem\">QUANTITY</span>\n",
       "</mark>\n",
       "\n",
       "<mark class=\"entity\" style=\"background: #ef94ce; padding: 0.45em 0.6em; margin: 0 0.25em; line-height: 1; border-radius: 0.35em; box-decoration-break: clone; -webkit-box-decoration-break: clone\">\n",
       "    french fries \n",
       "    <span style=\"font-size: 0.8em; font-weight: bold; line-height: 1; border-radius: 0.35em; text-transform: uppercase; vertical-align: middle; margin-left: 0.5rem\">ITEM</span>\n",
       "</mark>\n",
       "\n",
       "<mark class=\"entity\" style=\"background: #70ef92; padding: 0.45em 0.6em; margin: 0 0.25em; line-height: 1; border-radius: 0.35em; box-decoration-break: clone; -webkit-box-decoration-break: clone\">\n",
       "    and \n",
       "    <span style=\"font-size: 0.8em; font-weight: bold; line-height: 1; border-radius: 0.35em; text-transform: uppercase; vertical-align: middle; margin-left: 0.5rem\">CONJUNCTION</span>\n",
       "</mark>\n",
       "\n",
       "<mark class=\"entity\" style=\"background: #ccdcff; padding: 0.45em 0.6em; margin: 0 0.25em; line-height: 1; border-radius: 0.35em; box-decoration-break: clone; -webkit-box-decoration-break: clone\">\n",
       "    can you make \n",
       "    <span style=\"font-size: 0.8em; font-weight: bold; line-height: 1; border-radius: 0.35em; text-transform: uppercase; vertical-align: middle; margin-left: 0.5rem\">SUBSTITUTE_WITH_TARGET</span>\n",
       "</mark>\n",
       "\n",
       "<mark class=\"entity\" style=\"background: #fcbafa; padding: 0.45em 0.6em; margin: 0 0.25em; line-height: 1; border-radius: 0.35em; box-decoration-break: clone; -webkit-box-decoration-break: clone\">\n",
       "    the \n",
       "    <span style=\"font-size: 0.8em; font-weight: bold; line-height: 1; border-radius: 0.35em; text-transform: uppercase; vertical-align: middle; margin-left: 0.5rem\">THE</span>\n",
       "</mark>\n",
       "\n",
       "<mark class=\"entity\" style=\"background: #ef94ce; padding: 0.45em 0.6em; margin: 0 0.25em; line-height: 1; border-radius: 0.35em; box-decoration-break: clone; -webkit-box-decoration-break: clone\">\n",
       "    ten chicken strips \n",
       "    <span style=\"font-size: 0.8em; font-weight: bold; line-height: 1; border-radius: 0.35em; text-transform: uppercase; vertical-align: middle; margin-left: 0.5rem\">ITEM</span>\n",
       "</mark>\n",
       "\n",
       "<mark class=\"entity\" style=\"background: #ef8e70; padding: 0.45em 0.6em; margin: 0 0.25em; line-height: 1; border-radius: 0.35em; box-decoration-break: clone; -webkit-box-decoration-break: clone\">\n",
       "    to \n",
       "    <span style=\"font-size: 0.8em; font-weight: bold; line-height: 1; border-radius: 0.35em; text-transform: uppercase; vertical-align: middle; margin-left: 0.5rem\">FOR</span>\n",
       "</mark>\n",
       "\n",
       "<mark class=\"entity\" style=\"background: #99fcd3; padding: 0.45em 0.6em; margin: 0 0.25em; line-height: 1; border-radius: 0.35em; box-decoration-break: clone; -webkit-box-decoration-break: clone\">\n",
       "    seven \n",
       "    <span style=\"font-size: 0.8em; font-weight: bold; line-height: 1; border-radius: 0.35em; text-transform: uppercase; vertical-align: middle; margin-left: 0.5rem\">QUANTITY</span>\n",
       "</mark>\n",
       "\n",
       "<mark class=\"entity\" style=\"background: #ef94ce; padding: 0.45em 0.6em; margin: 0 0.25em; line-height: 1; border-radius: 0.35em; box-decoration-break: clone; -webkit-box-decoration-break: clone\">\n",
       "    burger\n",
       "    <span style=\"font-size: 0.8em; font-weight: bold; line-height: 1; border-radius: 0.35em; text-transform: uppercase; vertical-align: middle; margin-left: 0.5rem\">ITEM</span>\n",
       "</mark>\n",
       "</div>\n",
       "\n",
       "<h2 style=\"margin: 0\">GROUPS</h2>\n",
       "\n",
       "<div class=\"entities\" style=\"line-height: 2.5\">\n",
       "<mark class=\"entity\" style=\"background: #a7e5f9; padding: 0.45em 0.6em; margin: 0 0.25em; line-height: 1; border-radius: 0.35em; box-decoration-break: clone; -webkit-box-decoration-break: clone\">\n",
       "    they would do extra ten chicken strips five coke a french fries \n",
       "    <span style=\"font-size: 0.8em; font-weight: bold; line-height: 1; border-radius: 0.35em; text-transform: uppercase; vertical-align: middle; margin-left: 0.5rem\">ADD</span>\n",
       "</mark>\n",
       "and \n",
       "<mark class=\"entity\" style=\"background: #9edaed; padding: 0.45em 0.6em; margin: 0 0.25em; line-height: 1; border-radius: 0.35em; box-decoration-break: clone; -webkit-box-decoration-break: clone\">\n",
       "    can you make the ten chicken strips to seven burger\n",
       "    <span style=\"font-size: 0.8em; font-weight: bold; line-height: 1; border-radius: 0.35em; text-transform: uppercase; vertical-align: middle; margin-left: 0.5rem\">SUBSTITUTE</span>\n",
       "</mark>\n",
       "</div>"
      ],
      "text/plain": [
       "<IPython.core.display.HTML object>"
      ]
     },
     "metadata": {},
     "output_type": "display_data"
    },
    {
     "name": "stdout",
     "output_type": "stream",
     "text": [
      "\n"
     ]
    },
    {
     "data": {
      "text/html": [
       "<h2 style=\"margin: 0\">SENTENCE 174068:</h2>\n",
       "\n",
       "<div class=\"entities\" style=\"line-height: 2.5\">he'll want to get a ten chicken strips and no coke actually can you change the third one to ten chicken sandwich</div>\n",
       "\n",
       "<h2 style=\"margin: 0\">TOKENS</h2>\n",
       "\n",
       "<div class=\"entities\" style=\"line-height: 2.5\">\n",
       "<mark class=\"entity\" style=\"background: #a7e5f9; padding: 0.45em 0.6em; margin: 0 0.25em; line-height: 1; border-radius: 0.35em; box-decoration-break: clone; -webkit-box-decoration-break: clone\">\n",
       "    he'll want to get \n",
       "    <span style=\"font-size: 0.8em; font-weight: bold; line-height: 1; border-radius: 0.35em; text-transform: uppercase; vertical-align: middle; margin-left: 0.5rem\">ADD</span>\n",
       "</mark>\n",
       "\n",
       "<mark class=\"entity\" style=\"background: #99fcd3; padding: 0.45em 0.6em; margin: 0 0.25em; line-height: 1; border-radius: 0.35em; box-decoration-break: clone; -webkit-box-decoration-break: clone\">\n",
       "    a \n",
       "    <span style=\"font-size: 0.8em; font-weight: bold; line-height: 1; border-radius: 0.35em; text-transform: uppercase; vertical-align: middle; margin-left: 0.5rem\">QUANTITY</span>\n",
       "</mark>\n",
       "\n",
       "<mark class=\"entity\" style=\"background: #ef94ce; padding: 0.45em 0.6em; margin: 0 0.25em; line-height: 1; border-radius: 0.35em; box-decoration-break: clone; -webkit-box-decoration-break: clone\">\n",
       "    ten chicken strips \n",
       "    <span style=\"font-size: 0.8em; font-weight: bold; line-height: 1; border-radius: 0.35em; text-transform: uppercase; vertical-align: middle; margin-left: 0.5rem\">ITEM</span>\n",
       "</mark>\n",
       "\n",
       "<mark class=\"entity\" style=\"background: #70ef92; padding: 0.45em 0.6em; margin: 0 0.25em; line-height: 1; border-radius: 0.35em; box-decoration-break: clone; -webkit-box-decoration-break: clone\">\n",
       "    and \n",
       "    <span style=\"font-size: 0.8em; font-weight: bold; line-height: 1; border-radius: 0.35em; text-transform: uppercase; vertical-align: middle; margin-left: 0.5rem\">CONJUNCTION</span>\n",
       "</mark>\n",
       "\n",
       "<mark class=\"entity\" style=\"background: #99fcd3; padding: 0.45em 0.6em; margin: 0 0.25em; line-height: 1; border-radius: 0.35em; box-decoration-break: clone; -webkit-box-decoration-break: clone\">\n",
       "    no \n",
       "    <span style=\"font-size: 0.8em; font-weight: bold; line-height: 1; border-radius: 0.35em; text-transform: uppercase; vertical-align: middle; margin-left: 0.5rem\">QUANTITY</span>\n",
       "</mark>\n",
       "\n",
       "<mark class=\"entity\" style=\"background: #ef94ce; padding: 0.45em 0.6em; margin: 0 0.25em; line-height: 1; border-radius: 0.35em; box-decoration-break: clone; -webkit-box-decoration-break: clone\">\n",
       "    coke \n",
       "    <span style=\"font-size: 0.8em; font-weight: bold; line-height: 1; border-radius: 0.35em; text-transform: uppercase; vertical-align: middle; margin-left: 0.5rem\">ITEM</span>\n",
       "</mark>\n",
       "\n",
       "<mark class=\"entity\" style=\"background: #ccdcff; padding: 0.45em 0.6em; margin: 0 0.25em; line-height: 1; border-radius: 0.35em; box-decoration-break: clone; -webkit-box-decoration-break: clone\">\n",
       "    actually can you change \n",
       "    <span style=\"font-size: 0.8em; font-weight: bold; line-height: 1; border-radius: 0.35em; text-transform: uppercase; vertical-align: middle; margin-left: 0.5rem\">SUBSTITUTE_WITH_TARGET</span>\n",
       "</mark>\n",
       "\n",
       "<mark class=\"entity\" style=\"background: #fcbafa; padding: 0.45em 0.6em; margin: 0 0.25em; line-height: 1; border-radius: 0.35em; box-decoration-break: clone; -webkit-box-decoration-break: clone\">\n",
       "    the \n",
       "    <span style=\"font-size: 0.8em; font-weight: bold; line-height: 1; border-radius: 0.35em; text-transform: uppercase; vertical-align: middle; margin-left: 0.5rem\">THE</span>\n",
       "</mark>\n",
       "\n",
       "<mark class=\"entity\" style=\"background: #90f28e; padding: 0.45em 0.6em; margin: 0 0.25em; line-height: 1; border-radius: 0.35em; box-decoration-break: clone; -webkit-box-decoration-break: clone\">\n",
       "    third one \n",
       "    <span style=\"font-size: 0.8em; font-weight: bold; line-height: 1; border-radius: 0.35em; text-transform: uppercase; vertical-align: middle; margin-left: 0.5rem\">POSITION</span>\n",
       "</mark>\n",
       "\n",
       "<mark class=\"entity\" style=\"background: #ef8e70; padding: 0.45em 0.6em; margin: 0 0.25em; line-height: 1; border-radius: 0.35em; box-decoration-break: clone; -webkit-box-decoration-break: clone\">\n",
       "    to \n",
       "    <span style=\"font-size: 0.8em; font-weight: bold; line-height: 1; border-radius: 0.35em; text-transform: uppercase; vertical-align: middle; margin-left: 0.5rem\">FOR</span>\n",
       "</mark>\n",
       "\n",
       "<mark class=\"entity\" style=\"background: #99fcd3; padding: 0.45em 0.6em; margin: 0 0.25em; line-height: 1; border-radius: 0.35em; box-decoration-break: clone; -webkit-box-decoration-break: clone\">\n",
       "    ten \n",
       "    <span style=\"font-size: 0.8em; font-weight: bold; line-height: 1; border-radius: 0.35em; text-transform: uppercase; vertical-align: middle; margin-left: 0.5rem\">QUANTITY</span>\n",
       "</mark>\n",
       "\n",
       "<mark class=\"entity\" style=\"background: #ef94ce; padding: 0.45em 0.6em; margin: 0 0.25em; line-height: 1; border-radius: 0.35em; box-decoration-break: clone; -webkit-box-decoration-break: clone\">\n",
       "    chicken sandwich\n",
       "    <span style=\"font-size: 0.8em; font-weight: bold; line-height: 1; border-radius: 0.35em; text-transform: uppercase; vertical-align: middle; margin-left: 0.5rem\">ITEM</span>\n",
       "</mark>\n",
       "</div>\n",
       "\n",
       "<h2 style=\"margin: 0\">GROUPS</h2>\n",
       "\n",
       "<div class=\"entities\" style=\"line-height: 2.5\">\n",
       "<mark class=\"entity\" style=\"background: #a7e5f9; padding: 0.45em 0.6em; margin: 0 0.25em; line-height: 1; border-radius: 0.35em; box-decoration-break: clone; -webkit-box-decoration-break: clone\">\n",
       "    he'll want to get a ten chicken strips and no coke \n",
       "    <span style=\"font-size: 0.8em; font-weight: bold; line-height: 1; border-radius: 0.35em; text-transform: uppercase; vertical-align: middle; margin-left: 0.5rem\">ADD</span>\n",
       "</mark>\n",
       "\n",
       "<mark class=\"entity\" style=\"background: #9edaed; padding: 0.45em 0.6em; margin: 0 0.25em; line-height: 1; border-radius: 0.35em; box-decoration-break: clone; -webkit-box-decoration-break: clone\">\n",
       "    actually can you change the third one to ten chicken sandwich\n",
       "    <span style=\"font-size: 0.8em; font-weight: bold; line-height: 1; border-radius: 0.35em; text-transform: uppercase; vertical-align: middle; margin-left: 0.5rem\">SUBSTITUTE</span>\n",
       "</mark>\n",
       "</div>"
      ],
      "text/plain": [
       "<IPython.core.display.HTML object>"
      ]
     },
     "metadata": {},
     "output_type": "display_data"
    },
    {
     "name": "stdout",
     "output_type": "stream",
     "text": [
      "\n"
     ]
    },
    {
     "data": {
      "text/html": [
       "<h2 style=\"margin: 0\">SENTENCE 121408:</h2>\n",
       "\n",
       "<div class=\"entities\" style=\"line-height: 2.5\">we'd have to have two french fries and lose the the third one coke</div>\n",
       "\n",
       "<h2 style=\"margin: 0\">TOKENS</h2>\n",
       "\n",
       "<div class=\"entities\" style=\"line-height: 2.5\">\n",
       "<mark class=\"entity\" style=\"background: #a7e5f9; padding: 0.45em 0.6em; margin: 0 0.25em; line-height: 1; border-radius: 0.35em; box-decoration-break: clone; -webkit-box-decoration-break: clone\">\n",
       "    we'd have to have \n",
       "    <span style=\"font-size: 0.8em; font-weight: bold; line-height: 1; border-radius: 0.35em; text-transform: uppercase; vertical-align: middle; margin-left: 0.5rem\">ADD</span>\n",
       "</mark>\n",
       "\n",
       "<mark class=\"entity\" style=\"background: #99fcd3; padding: 0.45em 0.6em; margin: 0 0.25em; line-height: 1; border-radius: 0.35em; box-decoration-break: clone; -webkit-box-decoration-break: clone\">\n",
       "    two \n",
       "    <span style=\"font-size: 0.8em; font-weight: bold; line-height: 1; border-radius: 0.35em; text-transform: uppercase; vertical-align: middle; margin-left: 0.5rem\">QUANTITY</span>\n",
       "</mark>\n",
       "\n",
       "<mark class=\"entity\" style=\"background: #ef94ce; padding: 0.45em 0.6em; margin: 0 0.25em; line-height: 1; border-radius: 0.35em; box-decoration-break: clone; -webkit-box-decoration-break: clone\">\n",
       "    french fries \n",
       "    <span style=\"font-size: 0.8em; font-weight: bold; line-height: 1; border-radius: 0.35em; text-transform: uppercase; vertical-align: middle; margin-left: 0.5rem\">ITEM</span>\n",
       "</mark>\n",
       "\n",
       "<mark class=\"entity\" style=\"background: #70ef92; padding: 0.45em 0.6em; margin: 0 0.25em; line-height: 1; border-radius: 0.35em; box-decoration-break: clone; -webkit-box-decoration-break: clone\">\n",
       "    and \n",
       "    <span style=\"font-size: 0.8em; font-weight: bold; line-height: 1; border-radius: 0.35em; text-transform: uppercase; vertical-align: middle; margin-left: 0.5rem\">CONJUNCTION</span>\n",
       "</mark>\n",
       "\n",
       "<mark class=\"entity\" style=\"background: #b2ffd6; padding: 0.45em 0.6em; margin: 0 0.25em; line-height: 1; border-radius: 0.35em; box-decoration-break: clone; -webkit-box-decoration-break: clone\">\n",
       "    lose the \n",
       "    <span style=\"font-size: 0.8em; font-weight: bold; line-height: 1; border-radius: 0.35em; text-transform: uppercase; vertical-align: middle; margin-left: 0.5rem\">REMOVE</span>\n",
       "</mark>\n",
       "\n",
       "<mark class=\"entity\" style=\"background: #fcbafa; padding: 0.45em 0.6em; margin: 0 0.25em; line-height: 1; border-radius: 0.35em; box-decoration-break: clone; -webkit-box-decoration-break: clone\">\n",
       "    the \n",
       "    <span style=\"font-size: 0.8em; font-weight: bold; line-height: 1; border-radius: 0.35em; text-transform: uppercase; vertical-align: middle; margin-left: 0.5rem\">THE</span>\n",
       "</mark>\n",
       "\n",
       "<mark class=\"entity\" style=\"background: #90f28e; padding: 0.45em 0.6em; margin: 0 0.25em; line-height: 1; border-radius: 0.35em; box-decoration-break: clone; -webkit-box-decoration-break: clone\">\n",
       "    third one \n",
       "    <span style=\"font-size: 0.8em; font-weight: bold; line-height: 1; border-radius: 0.35em; text-transform: uppercase; vertical-align: middle; margin-left: 0.5rem\">POSITION</span>\n",
       "</mark>\n",
       "\n",
       "<mark class=\"entity\" style=\"background: #ef94ce; padding: 0.45em 0.6em; margin: 0 0.25em; line-height: 1; border-radius: 0.35em; box-decoration-break: clone; -webkit-box-decoration-break: clone\">\n",
       "    coke\n",
       "    <span style=\"font-size: 0.8em; font-weight: bold; line-height: 1; border-radius: 0.35em; text-transform: uppercase; vertical-align: middle; margin-left: 0.5rem\">ITEM</span>\n",
       "</mark>\n",
       "</div>\n",
       "\n",
       "<h2 style=\"margin: 0\">GROUPS</h2>\n",
       "\n",
       "<div class=\"entities\" style=\"line-height: 2.5\">\n",
       "<mark class=\"entity\" style=\"background: #a7e5f9; padding: 0.45em 0.6em; margin: 0 0.25em; line-height: 1; border-radius: 0.35em; box-decoration-break: clone; -webkit-box-decoration-break: clone\">\n",
       "    we'd have to have two french fries \n",
       "    <span style=\"font-size: 0.8em; font-weight: bold; line-height: 1; border-radius: 0.35em; text-transform: uppercase; vertical-align: middle; margin-left: 0.5rem\">ADD</span>\n",
       "</mark>\n",
       "and \n",
       "<mark class=\"entity\" style=\"background: #b2ffd6; padding: 0.45em 0.6em; margin: 0 0.25em; line-height: 1; border-radius: 0.35em; box-decoration-break: clone; -webkit-box-decoration-break: clone\">\n",
       "    lose the the third one coke\n",
       "    <span style=\"font-size: 0.8em; font-weight: bold; line-height: 1; border-radius: 0.35em; text-transform: uppercase; vertical-align: middle; margin-left: 0.5rem\">REMOVE</span>\n",
       "</mark>\n",
       "</div>"
      ],
      "text/plain": [
       "<IPython.core.display.HTML object>"
      ]
     },
     "metadata": {},
     "output_type": "display_data"
    },
    {
     "name": "stdout",
     "output_type": "stream",
     "text": [
      "\n"
     ]
    },
    {
     "data": {
      "text/html": [
       "<h2 style=\"margin: 0\">SENTENCE 206611:</h2>\n",
       "\n",
       "<div class=\"entities\" style=\"line-height: 2.5\">he will want to do four chicken sandwich five ten chicken strips</div>\n",
       "\n",
       "<h2 style=\"margin: 0\">TOKENS</h2>\n",
       "\n",
       "<div class=\"entities\" style=\"line-height: 2.5\">\n",
       "<mark class=\"entity\" style=\"background: #a7e5f9; padding: 0.45em 0.6em; margin: 0 0.25em; line-height: 1; border-radius: 0.35em; box-decoration-break: clone; -webkit-box-decoration-break: clone\">\n",
       "    he will want to do \n",
       "    <span style=\"font-size: 0.8em; font-weight: bold; line-height: 1; border-radius: 0.35em; text-transform: uppercase; vertical-align: middle; margin-left: 0.5rem\">ADD</span>\n",
       "</mark>\n",
       "\n",
       "<mark class=\"entity\" style=\"background: #99fcd3; padding: 0.45em 0.6em; margin: 0 0.25em; line-height: 1; border-radius: 0.35em; box-decoration-break: clone; -webkit-box-decoration-break: clone\">\n",
       "    four \n",
       "    <span style=\"font-size: 0.8em; font-weight: bold; line-height: 1; border-radius: 0.35em; text-transform: uppercase; vertical-align: middle; margin-left: 0.5rem\">QUANTITY</span>\n",
       "</mark>\n",
       "\n",
       "<mark class=\"entity\" style=\"background: #ef94ce; padding: 0.45em 0.6em; margin: 0 0.25em; line-height: 1; border-radius: 0.35em; box-decoration-break: clone; -webkit-box-decoration-break: clone\">\n",
       "    chicken sandwich \n",
       "    <span style=\"font-size: 0.8em; font-weight: bold; line-height: 1; border-radius: 0.35em; text-transform: uppercase; vertical-align: middle; margin-left: 0.5rem\">ITEM</span>\n",
       "</mark>\n",
       "\n",
       "<mark class=\"entity\" style=\"background: #99fcd3; padding: 0.45em 0.6em; margin: 0 0.25em; line-height: 1; border-radius: 0.35em; box-decoration-break: clone; -webkit-box-decoration-break: clone\">\n",
       "    five \n",
       "    <span style=\"font-size: 0.8em; font-weight: bold; line-height: 1; border-radius: 0.35em; text-transform: uppercase; vertical-align: middle; margin-left: 0.5rem\">QUANTITY</span>\n",
       "</mark>\n",
       "\n",
       "<mark class=\"entity\" style=\"background: #ef94ce; padding: 0.45em 0.6em; margin: 0 0.25em; line-height: 1; border-radius: 0.35em; box-decoration-break: clone; -webkit-box-decoration-break: clone\">\n",
       "    ten chicken strips\n",
       "    <span style=\"font-size: 0.8em; font-weight: bold; line-height: 1; border-radius: 0.35em; text-transform: uppercase; vertical-align: middle; margin-left: 0.5rem\">ITEM</span>\n",
       "</mark>\n",
       "</div>\n",
       "\n",
       "<h2 style=\"margin: 0\">GROUPS</h2>\n",
       "\n",
       "<div class=\"entities\" style=\"line-height: 2.5\">\n",
       "<mark class=\"entity\" style=\"background: #a7e5f9; padding: 0.45em 0.6em; margin: 0 0.25em; line-height: 1; border-radius: 0.35em; box-decoration-break: clone; -webkit-box-decoration-break: clone\">\n",
       "    he will want to do four chicken sandwich five ten chicken strips\n",
       "    <span style=\"font-size: 0.8em; font-weight: bold; line-height: 1; border-radius: 0.35em; text-transform: uppercase; vertical-align: middle; margin-left: 0.5rem\">ADD</span>\n",
       "</mark>\n",
       "</div>"
      ],
      "text/plain": [
       "<IPython.core.display.HTML object>"
      ]
     },
     "metadata": {},
     "output_type": "display_data"
    },
    {
     "name": "stdout",
     "output_type": "stream",
     "text": [
      "\n"
     ]
    },
    {
     "data": {
      "text/html": [
       "<h2 style=\"margin: 0\">SENTENCE 17693:</h2>\n",
       "\n",
       "<div class=\"entities\" style=\"line-height: 2.5\">strawberry</div>\n",
       "\n",
       "<h2 style=\"margin: 0\">TOKENS</h2>\n",
       "\n",
       "<div class=\"entities\" style=\"line-height: 2.5\">\n",
       "<mark class=\"entity\" style=\"background: #d1c9ff; padding: 0.45em 0.6em; margin: 0 0.25em; line-height: 1; border-radius: 0.35em; box-decoration-break: clone; -webkit-box-decoration-break: clone\">\n",
       "    strawberry\n",
       "    <span style=\"font-size: 0.8em; font-weight: bold; line-height: 1; border-radius: 0.35em; text-transform: uppercase; vertical-align: middle; margin-left: 0.5rem\">FLAVOR</span>\n",
       "</mark>\n",
       "</div>\n",
       "\n",
       "<h2 style=\"margin: 0\">GROUPS</h2>\n",
       "\n",
       "<div class=\"entities\" style=\"line-height: 2.5\">strawberry</div>"
      ],
      "text/plain": [
       "<IPython.core.display.HTML object>"
      ]
     },
     "metadata": {},
     "output_type": "display_data"
    },
    {
     "name": "stdout",
     "output_type": "stream",
     "text": [
      "\n"
     ]
    }
   ],
   "source": [
    "display_sentences(utterances, utterance_tokens, utterance_groups, displacy_options, 5)"
   ]
  },
  {
   "cell_type": "markdown",
   "metadata": {
    "colab_type": "text",
    "id": "3JV1LKaZwpZ2"
   },
   "source": [
    "# Using putput for Named Entity Recognition (keras)"
   ]
  },
  {
   "cell_type": "code",
   "execution_count": 20,
   "metadata": {
    "ExecuteTime": {
     "end_time": "2019-02-25T22:23:41.999695Z",
     "start_time": "2019-02-25T22:23:41.995140Z"
    },
    "colab": {},
    "colab_type": "code",
    "id": "Aro40JSM8Kb8"
   },
   "outputs": [],
   "source": [
    "def compute_word2idx(utterances):\n",
    "    words = list(set(list(itertools.chain.from_iterable(utterances))))\n",
    "    words.append(\"ENDPAD\")\n",
    "    words.append(\"UNKNOWN\")\n",
    "    word2idx = {w: i for i, w in enumerate(words)}\n",
    "    return word2idx"
   ]
  },
  {
   "cell_type": "code",
   "execution_count": 21,
   "metadata": {
    "ExecuteTime": {
     "end_time": "2019-02-25T22:23:42.254223Z",
     "start_time": "2019-02-25T22:23:42.250237Z"
    },
    "colab": {},
    "colab_type": "code",
    "id": "sSmL63_x8Kb-"
   },
   "outputs": [],
   "source": [
    "def compute_tag2idx(tokens):\n",
    "    tags = list(set(list(itertools.chain.from_iterable(tokens))))\n",
    "    if 'O' not in tags:\n",
    "        tags.append('O')\n",
    "    tag2idx = {t: i for i, t in enumerate(tags)}\n",
    "    return tag2idx"
   ]
  },
  {
   "cell_type": "code",
   "execution_count": 22,
   "metadata": {
    "ExecuteTime": {
     "end_time": "2019-02-25T22:23:42.830381Z",
     "start_time": "2019-02-25T22:23:42.827070Z"
    },
    "colab": {},
    "colab_type": "code",
    "id": "Z4Jbyjqx8KcB"
   },
   "outputs": [],
   "source": [
    "def plot_histogram_length_of_utterances(utterances):\n",
    "    plt.hist([len(utterance) for utterance in utterances], bins=50)\n",
    "    plt.show()"
   ]
  },
  {
   "cell_type": "code",
   "execution_count": 23,
   "metadata": {
    "ExecuteTime": {
     "end_time": "2019-02-25T22:23:43.910941Z",
     "start_time": "2019-02-25T22:23:43.906938Z"
    },
    "colab": {},
    "colab_type": "code",
    "id": "81qYR0PP8KcD"
   },
   "outputs": [],
   "source": [
    "def transform_utterances_for_keras(utterances, max_utterance_length, word2idx):\n",
    "    X = [[(word2idx.get(word) or word2idx.get(\"UNKNOWN\")) for word in phrase] for phrase in utterances]\n",
    "    X = pad_sequences(maxlen=max_utterance_length, sequences=X, padding=\"post\", value=word2idx['ENDPAD'])\n",
    "    return X"
   ]
  },
  {
   "cell_type": "code",
   "execution_count": 24,
   "metadata": {
    "ExecuteTime": {
     "end_time": "2019-02-25T22:23:44.311613Z",
     "start_time": "2019-02-25T22:23:44.306856Z"
    },
    "colab": {},
    "colab_type": "code",
    "id": "VO5A9E-C8KcG"
   },
   "outputs": [],
   "source": [
    "def transform_tokens_for_keras(tokens, max_utterance_length, tag2idx):\n",
    "    y = [[tag2idx[tag] for tag in token] for token in tokens]\n",
    "    y = pad_sequences(maxlen=max_utterance_length, sequences=y, padding=\"post\", value=tag2idx[\"O\"])\n",
    "    y = [to_categorical(i, num_classes=len(tag2idx)) for i in y]\n",
    "    return y"
   ]
  },
  {
   "cell_type": "code",
   "execution_count": 25,
   "metadata": {
    "ExecuteTime": {
     "end_time": "2019-02-25T22:23:44.532184Z",
     "start_time": "2019-02-25T22:23:44.529363Z"
    },
    "colab": {},
    "colab_type": "code",
    "id": "Eo6fIC058KcJ"
   },
   "outputs": [],
   "source": [
    "def train_test(utternaces, tokens, groups):\n",
    "    return train_test_split(utternaces, tokens, groups, test_size=0.1, random_state=1)"
   ]
  },
  {
   "cell_type": "code",
   "execution_count": 26,
   "metadata": {
    "ExecuteTime": {
     "end_time": "2019-02-25T22:23:44.755106Z",
     "start_time": "2019-02-25T22:23:44.749078Z"
    },
    "colab": {},
    "colab_type": "code",
    "id": "P2FLa7Q4en9_"
   },
   "outputs": [],
   "source": [
    "def define_and_compile_model(max_utterance_length, num_unique_words, num_unique_tags, num_unique_groups):\n",
    "    # bidirectional LSTM with custom word embeddings\n",
    "    input = Input(shape=(max_utterance_length,))\n",
    "    model = Embedding(input_dim=num_unique_words, output_dim=16, input_length=max_utterance_length)(input)\n",
    "    model = Dropout(0.1)(model)\n",
    "    model = Bidirectional(LSTM(units=16, return_sequences=True, recurrent_dropout=0.2))(model)\n",
    "    token_output = TimeDistributed(Dense(num_unique_tags, activation=\"softmax\"), name='token_output')(model)  # softmax output layer\n",
    "    group_output = TimeDistributed(Dense(num_unique_groups, activation=\"softmax\"), name='group_output')(model)\n",
    "    model = Model(input, outputs=[token_output, group_output])\n",
    "    model.compile(optimizer=\"rmsprop\", loss=\"categorical_crossentropy\", metrics=[\"accuracy\"])\n",
    "    return model"
   ]
  },
  {
   "cell_type": "code",
   "execution_count": 27,
   "metadata": {
    "ExecuteTime": {
     "end_time": "2019-02-25T22:23:44.989448Z",
     "start_time": "2019-02-25T22:23:44.985716Z"
    },
    "colab": {},
    "colab_type": "code",
    "id": "_l1HvMHb8KcQ"
   },
   "outputs": [],
   "source": [
    "def train_model(X_tr, y_tr, z_tr):\n",
    "    history = model.fit(X_tr, [np.array(y_tr), np.array(z_tr)], batch_size=BATCH_SIZE, \n",
    "                        epochs=EPOCHS, validation_split=0.1, verbose=0, \n",
    "                        callbacks=[TQDMNotebookCallback()])\n",
    "    return history"
   ]
  },
  {
   "cell_type": "code",
   "execution_count": 28,
   "metadata": {
    "ExecuteTime": {
     "end_time": "2019-02-25T22:23:45.266547Z",
     "start_time": "2019-02-25T22:23:45.262017Z"
    },
    "colab": {},
    "colab_type": "code",
    "id": "63J9Z9Ul8KcT"
   },
   "outputs": [],
   "source": [
    "def plot_model_training(history, suffix):\n",
    "    hist = pd.DataFrame(history.history)\n",
    "    plt.figure(figsize=(12,12))\n",
    "    plt.plot(hist[\"token_output_\" + suffix])\n",
    "    plt.plot(hist[\"val_token_output_\" + suffix])\n",
    "    plt.plot(hist[\"group_output_\" + suffix])\n",
    "    plt.plot(hist[\"val_group_output_\" + suffix])\n",
    "    plt.legend()\n",
    "    plt.ylabel('Accuracy/Loss')\n",
    "    plt.xlabel('Epoch')\n",
    "    plt.show()"
   ]
  },
  {
   "cell_type": "code",
   "execution_count": 29,
   "metadata": {
    "ExecuteTime": {
     "end_time": "2019-02-25T22:23:45.608045Z",
     "start_time": "2019-02-25T22:23:45.602622Z"
    },
    "colab": {},
    "colab_type": "code",
    "id": "NXWzyFPh8KcV"
   },
   "outputs": [],
   "source": [
    "def _convert_model_output_to_labels(pred, idx2tag):\n",
    "    out = []\n",
    "    for pred_i in pred:\n",
    "        out_i = []\n",
    "        for p in pred_i:\n",
    "            p_i = np.argmax(p)\n",
    "            out_i.append(idx2tag[p_i])\n",
    "        out.append(out_i)\n",
    "    return out"
   ]
  },
  {
   "cell_type": "code",
   "execution_count": 30,
   "metadata": {
    "ExecuteTime": {
     "end_time": "2019-02-25T22:23:46.250631Z",
     "start_time": "2019-02-25T22:23:46.244903Z"
    },
    "colab": {},
    "colab_type": "code",
    "id": "lgHnLK-u8KcX"
   },
   "outputs": [],
   "source": [
    "def evaluate_model_on_test_split(model, X_te, y_te, z_te, tag2idx, group2idx):\n",
    "    idx2tag = {i: w for w, i in tag2idx.items()}\n",
    "    idx2group = {i: w for w, i in group2idx.items()}\n",
    "    \n",
    "    token_test_pred, group_test_pred = model.predict(X_te, verbose=0)\n",
    "    \n",
    "    token_pred_labels = _convert_model_output_to_labels(token_test_pred, idx2tag)\n",
    "    if os.environ.get('CI'):\n",
    "        token_pred_labels = _convert_model_output_to_labels(y_te, idx2tag)\n",
    "    token_test_labels = _convert_model_output_to_labels(y_te, idx2tag)\n",
    "    \n",
    "    group_pred_labels = _convert_model_output_to_labels(group_test_pred, idx2group)\n",
    "    if os.environ.get('CI'):\n",
    "        group_pred_labels = _convert_model_output_to_labels(z_te, idx2group)\n",
    "    group_test_labels = _convert_model_output_to_labels(z_te, idx2group)\n",
    "    return classification_report(token_pred_labels, token_test_labels), classification_report(group_pred_labels, group_test_labels)"
   ]
  },
  {
   "cell_type": "code",
   "execution_count": 31,
   "metadata": {
    "ExecuteTime": {
     "end_time": "2019-02-25T22:23:46.751281Z",
     "start_time": "2019-02-25T22:23:46.739507Z"
    },
    "colab": {},
    "colab_type": "code",
    "id": "_WfxmQve8Kca"
   },
   "outputs": [],
   "source": [
    "def predict(model, pred_utterance, max_utterance_length, word2idx, tag2idx, groups2idx, options):\n",
    "    pred_utterances = [pred_utterance.split()]\n",
    "    X = transform_utterances_for_keras(pred_utterances, max_utterance_length, word2idx)    \n",
    "    token_test_pred, group_test_pred = model.predict(np.array([X[0]]))\n",
    "    token_test_pred = np.argmax(token_test_pred, axis=-1)\n",
    "    group_test_pred = np.argmax(group_test_pred, axis=-1)\n",
    "\n",
    "    idx2word = {idx: word for word, idx in word2idx.items()}\n",
    "    idx2tag = {idx: word for word, idx in tag2idx.items()}\n",
    "    idx2group = {idx: word for word, idx in groups2idx.items()}\n",
    "    \n",
    "    words = []\n",
    "    tokens = []\n",
    "    groups = []\n",
    "    \n",
    "    for w, token_pred, group_pred in zip(X[0], token_test_pred[0], group_test_pred[0]):\n",
    "        if 'ENDPAD' not in idx2word[w]:\n",
    "            words.append(idx2word[w])\n",
    "            tokens.append(idx2tag[token_pred])\n",
    "            groups.append(idx2group[group_pred])\n",
    "    display_sentence(words, tokens, groups, options)"
   ]
  },
  {
   "cell_type": "markdown",
   "metadata": {
    "colab_type": "text",
    "id": "g5jrPlDQ8Kco"
   },
   "source": [
    "# Analyze the utterances and tokens to determine max utterance length"
   ]
  },
  {
   "cell_type": "code",
   "execution_count": 32,
   "metadata": {
    "ExecuteTime": {
     "end_time": "2019-02-25T22:23:47.938500Z",
     "start_time": "2019-02-25T22:23:47.715136Z"
    },
    "colab": {
     "base_uri": "https://localhost:8080/",
     "height": 347
    },
    "colab_type": "code",
    "executionInfo": {
     "elapsed": 863,
     "status": "ok",
     "timestamp": 1551206955144,
     "user": {
      "displayName": "Arman",
      "photoUrl": "https://lh4.googleusercontent.com/--9UN543vMkU/AAAAAAAAAAI/AAAAAAABCTQ/cyiHeJEBd6U/s64/photo.jpg",
      "userId": "06639134854516253008"
     },
     "user_tz": 300
    },
    "id": "t7e10J2b8Kcp",
    "outputId": "e6975627-5618-4a3b-bf74-383e93345dc9"
   },
   "outputs": [
    {
     "data": {
      "image/png": "[encoded data removed]",
      "text/plain": [
       "<Figure size 432x288 with 1 Axes>"
      ]
     },
     "metadata": {
      "needs_background": "light"
     },
     "output_type": "display_data"
    }
   ],
   "source": [
    "plot_histogram_length_of_utterances(utterances)\n",
    "max_utterance_length = 40 # based on the histogram"
   ]
  },
  {
   "cell_type": "markdown",
   "metadata": {
    "colab_type": "text",
    "id": "_bybYBQu8Kcs"
   },
   "source": [
    "Keras expects all utterances to be of the same length. Therefore we look at the distribution of lengths of utterances to determine what an appropriate maximum length should be. "
   ]
  },
  {
   "cell_type": "markdown",
   "metadata": {
    "colab_type": "text",
    "id": "3UvStrrX8Kct"
   },
   "source": [
    "# Create a train test split of the data, in a format amenable to keras"
   ]
  },
  {
   "cell_type": "code",
   "execution_count": 33,
   "metadata": {
    "ExecuteTime": {
     "end_time": "2019-02-25T22:23:50.514760Z",
     "start_time": "2019-02-25T22:23:49.857672Z"
    },
    "colab": {},
    "colab_type": "code",
    "id": "S0_Vhhml8Kcu"
   },
   "outputs": [],
   "source": [
    "word2idx = compute_word2idx(utterances)\n",
    "tag2idx = compute_tag2idx(utterance_tokens)\n",
    "groups2idx = compute_tag2idx(utterance_groups)\n",
    "X = transform_utterances_for_keras(utterances, max_utterance_length, word2idx)\n",
    "y = transform_tokens_for_keras(utterance_tokens, max_utterance_length, tag2idx)\n",
    "z = transform_tokens_for_keras(utterance_groups, max_utterance_length, groups2idx)\n",
    "X_tr, X_te, y_tr, y_te, z_tr, z_te = train_test(X, y, z)"
   ]
  },
  {
   "cell_type": "markdown",
   "metadata": {
    "colab_type": "text",
    "id": "gmrpSNN38Kcx"
   },
   "source": [
    "# Define and compile the model"
   ]
  },
  {
   "cell_type": "code",
   "execution_count": 34,
   "metadata": {
    "ExecuteTime": {
     "end_time": "2019-02-25T22:23:52.004833Z",
     "start_time": "2019-02-25T22:23:51.435074Z"
    },
    "colab": {
     "base_uri": "https://localhost:8080/",
     "height": 442
    },
    "colab_type": "code",
    "executionInfo": {
     "elapsed": 25265,
     "status": "ok",
     "timestamp": 1551206982752,
     "user": {
      "displayName": "Arman",
      "photoUrl": "https://lh4.googleusercontent.com/--9UN543vMkU/AAAAAAAAAAI/AAAAAAABCTQ/cyiHeJEBd6U/s64/photo.jpg",
      "userId": "06639134854516253008"
     },
     "user_tz": 300
    },
    "id": "1d-e9J818Kcy",
    "outputId": "b05e7b61-6b10-4ee7-b767-c93e71f96a31"
   },
   "outputs": [
    {
     "name": "stdout",
     "output_type": "stream",
     "text": [
      "__________________________________________________________________________________________________\n",
      "Layer (type)                    Output Shape         Param #     Connected to                     \n",
      "==================================================================================================\n",
      "input_1 (InputLayer)            (None, 40)           0                                            \n",
      "__________________________________________________________________________________________________\n",
      "embedding_1 (Embedding)         (None, 40, 16)       2544        input_1[0][0]                    \n",
      "__________________________________________________________________________________________________\n",
      "dropout_1 (Dropout)             (None, 40, 16)       0           embedding_1[0][0]                \n",
      "__________________________________________________________________________________________________\n",
      "bidirectional_1 (Bidirectional) (None, 40, 32)       4224        dropout_1[0][0]                  \n",
      "__________________________________________________________________________________________________\n",
      "token_output (TimeDistributed)  (None, 40, 31)       1023        bidirectional_1[0][0]            \n",
      "__________________________________________________________________________________________________\n",
      "group_output (TimeDistributed)  (None, 40, 8)        264         bidirectional_1[0][0]            \n",
      "==================================================================================================\n",
      "Total params: 8,055\n",
      "Trainable params: 8,055\n",
      "Non-trainable params: 0\n",
      "__________________________________________________________________________________________________\n"
     ]
    }
   ],
   "source": [
    "model = define_and_compile_model(max_utterance_length, len(word2idx), len(tag2idx), len(groups2idx))\n",
    "model.summary()"
   ]
  },
  {
   "cell_type": "markdown",
   "metadata": {
    "colab_type": "text",
    "id": "v0JCNZyY8Kc2"
   },
   "source": [
    "# Plot model training and analyze training"
   ]
  },
  {
   "cell_type": "code",
   "execution_count": 35,
   "metadata": {
    "ExecuteTime": {
     "start_time": "2019-02-25T22:23:54.967Z"
    },
    "colab": {
     "base_uri": "https://localhost:8080/",
     "height": 173
    },
    "colab_type": "code",
    "executionInfo": {
     "elapsed": 563263,
     "status": "ok",
     "timestamp": 1551207521772,
     "user": {
      "displayName": "Arman",
      "photoUrl": "https://lh4.googleusercontent.com/--9UN543vMkU/AAAAAAAAAAI/AAAAAAABCTQ/cyiHeJEBd6U/s64/photo.jpg",
      "userId": "06639134854516253008"
     },
     "user_tz": 300
    },
    "id": "_m_VKR9u8Kc2",
    "outputId": "98c15b0b-4a0d-40d2-9f21-1a104fbf57ae",
    "scrolled": true
   },
   "outputs": [
    {
     "data": {
      "application/vnd.jupyter.widget-view+json": {
       "model_id": "0ea4599ab7c74008a6c1fcb12b2e1c5c",
       "version_major": 2,
       "version_minor": 0
      },
      "text/plain": [
       "HBox(children=(IntProgress(value=0, description='Training', max=2, style=ProgressStyle(description_width='init…"
      ]
     },
     "metadata": {},
     "output_type": "display_data"
    },
    {
     "data": {
      "application/vnd.jupyter.widget-view+json": {
       "model_id": "",
       "version_major": 2,
       "version_minor": 0
      },
      "text/plain": [
       "HBox(children=(IntProgress(value=0, description='Epoch 0', max=296460, style=ProgressStyle(description_width='…"
      ]
     },
     "metadata": {},
     "output_type": "display_data"
    },
    {
     "data": {
      "application/vnd.jupyter.widget-view+json": {
       "model_id": "",
       "version_major": 2,
       "version_minor": 0
      },
      "text/plain": [
       "HBox(children=(IntProgress(value=0, description='Epoch 1', max=296460, style=ProgressStyle(description_width='…"
      ]
     },
     "metadata": {},
     "output_type": "display_data"
    },
    {
     "name": "stdout",
     "output_type": "stream",
     "text": [
      "\n"
     ]
    }
   ],
   "source": [
    "history = train_model(X_tr, y_tr, z_tr)"
   ]
  },
  {
   "cell_type": "code",
   "execution_count": 36,
   "metadata": {
    "colab": {
     "base_uri": "https://localhost:8080/",
     "height": 714
    },
    "colab_type": "code",
    "executionInfo": {
     "elapsed": 4173,
     "status": "ok",
     "timestamp": 1551137128230,
     "user": {
      "displayName": "Arman",
      "photoUrl": "https://lh4.googleusercontent.com/--9UN543vMkU/AAAAAAAAAAI/AAAAAAABCTQ/cyiHeJEBd6U/s64/photo.jpg",
      "userId": "06639134854516253008"
     },
     "user_tz": 300
    },
    "id": "0n6zRH4U8Kc6",
    "outputId": "d10c4f9d-aaca-4dae-f7c2-1c4b792d595c"
   },
   "outputs": [
    {
     "data": {
      "image/png": "[encoded data removed]",
      "text/plain": [
       "<Figure size 864x864 with 1 Axes>"
      ]
     },
     "metadata": {
      "needs_background": "light"
     },
     "output_type": "display_data"
    }
   ],
   "source": [
    "plot_model_training(history, 'acc')"
   ]
  },
  {
   "cell_type": "code",
   "execution_count": 37,
   "metadata": {
    "colab": {
     "base_uri": "https://localhost:8080/",
     "height": 714
    },
    "colab_type": "code",
    "executionInfo": {
     "elapsed": 4157,
     "status": "ok",
     "timestamp": 1551137128754,
     "user": {
      "displayName": "Arman",
      "photoUrl": "https://lh4.googleusercontent.com/--9UN543vMkU/AAAAAAAAAAI/AAAAAAABCTQ/cyiHeJEBd6U/s64/photo.jpg",
      "userId": "06639134854516253008"
     },
     "user_tz": 300
    },
    "id": "zIHf-cp58Kc8",
    "outputId": "30b6787b-ff47-43d5-b9da-9cb6c44ee71c"
   },
   "outputs": [
    {
     "data": {
      "image/png": "[encoded data removed]",
      "text/plain": [
       "<Figure size 864x864 with 1 Axes>"
      ]
     },
     "metadata": {
      "needs_background": "light"
     },
     "output_type": "display_data"
    }
   ],
   "source": [
    "plot_model_training(history, 'loss')"
   ]
  },
  {
   "cell_type": "markdown",
   "metadata": {
    "colab_type": "text",
    "id": "FHADsvoy8KdA"
   },
   "source": [
    "Note: Here we can see that the model overfits the data from putput very quickly. This is both good and bad. It is good because it demonstrates that if you already have an existing model with this architecture, and you want to train it with utterances from putput, it is likely that the model has the capacity to learn the patterns well. It is bad because if you only have data from putput, the model will not generalize."
   ]
  },
  {
   "cell_type": "markdown",
   "metadata": {},
   "source": [
    "# Save and load model"
   ]
  },
  {
   "cell_type": "code",
   "execution_count": 38,
   "metadata": {
    "colab": {},
    "colab_type": "code",
    "id": "F23eDiU6zmFd"
   },
   "outputs": [],
   "source": [
    "if not os.environ.get('CI') and not putput_model_path.is_file():\n",
    "    model.save('multiple_output_lstm_custom_word_emb.h5')"
   ]
  },
  {
   "cell_type": "code",
   "execution_count": 39,
   "metadata": {
    "colab": {},
    "colab_type": "code",
    "id": "vCz2ulmBWIGG"
   },
   "outputs": [],
   "source": [
    "if not os.environ.get('CI') and putput_model_path.is_file():\n",
    "    model = load_model('multiple_output_lstm_custom_word_emb.h5')"
   ]
  },
  {
   "cell_type": "markdown",
   "metadata": {
    "colab_type": "text",
    "id": "hOpj-Jce8KdB"
   },
   "source": [
    "# Evaluate on test data"
   ]
  },
  {
   "cell_type": "code",
   "execution_count": 40,
   "metadata": {
    "colab": {
     "base_uri": "https://localhost:8080/",
     "height": 34
    },
    "colab_type": "code",
    "executionInfo": {
     "elapsed": 33728,
     "status": "ok",
     "timestamp": 1551137345730,
     "user": {
      "displayName": "Arman",
      "photoUrl": "https://lh4.googleusercontent.com/--9UN543vMkU/AAAAAAAAAAI/AAAAAAABCTQ/cyiHeJEBd6U/s64/photo.jpg",
      "userId": "06639134854516253008"
     },
     "user_tz": 300
    },
    "id": "SMSLKRXL8KdC",
    "outputId": "866e47cb-37f8-4933-8453-7a702f587e23"
   },
   "outputs": [],
   "source": [
    "token_eval, group_eval = evaluate_model_on_test_split(model, X_te, y_te, z_te, tag2idx, groups2idx)"
   ]
  },
  {
   "cell_type": "code",
   "execution_count": 41,
   "metadata": {
    "colab": {
     "base_uri": "https://localhost:8080/",
     "height": 425
    },
    "colab_type": "code",
    "executionInfo": {
     "elapsed": 32587,
     "status": "ok",
     "timestamp": 1551137345732,
     "user": {
      "displayName": "Arman",
      "photoUrl": "https://lh4.googleusercontent.com/--9UN543vMkU/AAAAAAAAAAI/AAAAAAABCTQ/cyiHeJEBd6U/s64/photo.jpg",
      "userId": "06639134854516253008"
     },
     "user_tz": 300
    },
    "id": "Z4xxHd758KdP",
    "outputId": "bf6f1190-884f-441e-fd17-7334c84be300",
    "scrolled": true
   },
   "outputs": [
    {
     "name": "stdout",
     "output_type": "stream",
     "text": [
      "                            precision    recall  f1-score   support\n",
      "\n",
      "                   PRONOUN       1.00      1.00      1.00      7792\n",
      "                      ITEM       1.00      1.00      1.00    106312\n",
      "               CONJUNCTION       1.00      1.00      1.00     28580\n",
      "                       FOR       1.00      1.00      1.00      9213\n",
      "    SUBSTITUTE_WITH_TARGET       1.00      1.00      1.00     14878\n",
      "                       THE       1.00      1.00      1.00      7417\n",
      "                  POSITION       1.00      1.00      1.00      3290\n",
      "                       ADD       1.00      1.00      1.00     23042\n",
      "                  QUANTITY       1.00      1.00      1.00     78828\n",
      "              END_OF_ORDER       1.00      1.00      1.00      2478\n",
      "               PRONOUN_ALL       1.00      1.00      1.00      1885\n",
      "   PREPOSITION_TARGET_BACK       1.00      1.00      1.00      1872\n",
      "                      SIZE       1.00      1.00      1.00      3916\n",
      "                    REMOVE       0.99      0.99      0.99     11290\n",
      "              MEAL_UPGRADE       1.00      1.00      1.00       877\n",
      "                    FLAVOR       1.00      1.00      1.00       862\n",
      "PREPOSITION_TARGET_FORWARD       1.00      1.00      1.00       940\n",
      "      PREPOSITION_QUANTITY       1.00      1.00      1.00      2112\n",
      "            NEED_MORE_TIME       1.00      1.00      1.00       284\n",
      "\n",
      "               avg / total       1.00      1.00      1.00    305868\n",
      "\n"
     ]
    }
   ],
   "source": [
    "print(token_eval)"
   ]
  },
  {
   "cell_type": "code",
   "execution_count": 42,
   "metadata": {
    "colab": {
     "base_uri": "https://localhost:8080/",
     "height": 170
    },
    "colab_type": "code",
    "executionInfo": {
     "elapsed": 32123,
     "status": "ok",
     "timestamp": 1551137345734,
     "user": {
      "displayName": "Arman",
      "photoUrl": "https://lh4.googleusercontent.com/--9UN543vMkU/AAAAAAAAAAI/AAAAAAABCTQ/cyiHeJEBd6U/s64/photo.jpg",
      "userId": "06639134854516253008"
     },
     "user_tz": 300
    },
    "id": "7xWKfknd8KdT",
    "outputId": "7aa41047-b58d-4bfe-a5d2-d31babb344ff"
   },
   "outputs": [
    {
     "name": "stdout",
     "output_type": "stream",
     "text": [
      "             precision    recall  f1-score   support\n",
      "\n",
      "        ADD       1.00      1.00      1.00     30107\n",
      "     REMOVE       1.00      1.00      1.00     11290\n",
      " SUBSTITUTE       1.00      1.00      1.00     14878\n",
      "       None       1.00      1.00      1.00     11545\n",
      "\n",
      "avg / total       1.00      1.00      1.00     67820\n",
      "\n"
     ]
    }
   ],
   "source": [
    "print(group_eval)"
   ]
  },
  {
   "cell_type": "markdown",
   "metadata": {
    "colab_type": "text",
    "id": "lUbIUkAs8KdV"
   },
   "source": [
    "# Make predictions"
   ]
  },
  {
   "cell_type": "code",
   "execution_count": 43,
   "metadata": {
    "colab": {
     "base_uri": "https://localhost:8080/",
     "height": 200
    },
    "colab_type": "code",
    "executionInfo": {
     "elapsed": 422,
     "status": "ok",
     "timestamp": 1551207868397,
     "user": {
      "displayName": "Arman",
      "photoUrl": "https://lh4.googleusercontent.com/--9UN543vMkU/AAAAAAAAAAI/AAAAAAABCTQ/cyiHeJEBd6U/s64/photo.jpg",
      "userId": "06639134854516253008"
     },
     "user_tz": 300
    },
    "id": "PBF9t7Qi8KdX",
    "outputId": "76348fb4-1008-4339-8e8c-0579118eb8b9"
   },
   "outputs": [
    {
     "data": {
      "text/html": [
       "<h2 style=\"margin: 0\">SENTENCE</h2>\n",
       "\n",
       "<div class=\"entities\" style=\"line-height: 2.5\">three burger</div>\n",
       "\n",
       "<h2 style=\"margin: 0\">TOKENS</h2>\n",
       "\n",
       "<div class=\"entities\" style=\"line-height: 2.5\">\n",
       "<mark class=\"entity\" style=\"background: #99fcd3; padding: 0.45em 0.6em; margin: 0 0.25em; line-height: 1; border-radius: 0.35em; box-decoration-break: clone; -webkit-box-decoration-break: clone\">\n",
       "    three \n",
       "    <span style=\"font-size: 0.8em; font-weight: bold; line-height: 1; border-radius: 0.35em; text-transform: uppercase; vertical-align: middle; margin-left: 0.5rem\">QUANTITY</span>\n",
       "</mark>\n",
       "\n",
       "<mark class=\"entity\" style=\"background: #ef94ce; padding: 0.45em 0.6em; margin: 0 0.25em; line-height: 1; border-radius: 0.35em; box-decoration-break: clone; -webkit-box-decoration-break: clone\">\n",
       "    burger\n",
       "    <span style=\"font-size: 0.8em; font-weight: bold; line-height: 1; border-radius: 0.35em; text-transform: uppercase; vertical-align: middle; margin-left: 0.5rem\">ITEM</span>\n",
       "</mark>\n",
       "</div>\n",
       "\n",
       "<h2 style=\"margin: 0\">GROUPS</h2>\n",
       "\n",
       "<div class=\"entities\" style=\"line-height: 2.5\">\n",
       "<mark class=\"entity\" style=\"background: #a7e5f9; padding: 0.45em 0.6em; margin: 0 0.25em; line-height: 1; border-radius: 0.35em; box-decoration-break: clone; -webkit-box-decoration-break: clone\">\n",
       "    three burger\n",
       "    <span style=\"font-size: 0.8em; font-weight: bold; line-height: 1; border-radius: 0.35em; text-transform: uppercase; vertical-align: middle; margin-left: 0.5rem\">ADD</span>\n",
       "</mark>\n",
       "</div>"
      ],
      "text/plain": [
       "<IPython.core.display.HTML object>"
      ]
     },
     "metadata": {},
     "output_type": "display_data"
    }
   ],
   "source": [
    "predict(model, 'three burger', max_utterance_length, word2idx, tag2idx, groups2idx, displacy_options)"
   ]
  },
  {
   "cell_type": "code",
   "execution_count": 44,
   "metadata": {
    "colab": {
     "base_uri": "https://localhost:8080/",
     "height": 200
    },
    "colab_type": "code",
    "executionInfo": {
     "elapsed": 348,
     "status": "ok",
     "timestamp": 1551207852017,
     "user": {
      "displayName": "Arman",
      "photoUrl": "https://lh4.googleusercontent.com/--9UN543vMkU/AAAAAAAAAAI/AAAAAAABCTQ/cyiHeJEBd6U/s64/photo.jpg",
      "userId": "06639134854516253008"
     },
     "user_tz": 300
    },
    "id": "JORWaLfw8Kda",
    "outputId": "e39ebc77-1787-42b2-ee2f-3f8b257f0a2c"
   },
   "outputs": [
    {
     "data": {
      "text/html": [
       "<h2 style=\"margin: 0\">SENTENCE</h2>\n",
       "\n",
       "<div class=\"entities\" style=\"line-height: 2.5\">i want ten burger make that a chicken sandwich and remove one burger</div>\n",
       "\n",
       "<h2 style=\"margin: 0\">TOKENS</h2>\n",
       "\n",
       "<div class=\"entities\" style=\"line-height: 2.5\">\n",
       "<mark class=\"entity\" style=\"background: #a7e5f9; padding: 0.45em 0.6em; margin: 0 0.25em; line-height: 1; border-radius: 0.35em; box-decoration-break: clone; -webkit-box-decoration-break: clone\">\n",
       "    i want \n",
       "    <span style=\"font-size: 0.8em; font-weight: bold; line-height: 1; border-radius: 0.35em; text-transform: uppercase; vertical-align: middle; margin-left: 0.5rem\">ADD</span>\n",
       "</mark>\n",
       "\n",
       "<mark class=\"entity\" style=\"background: #99fcd3; padding: 0.45em 0.6em; margin: 0 0.25em; line-height: 1; border-radius: 0.35em; box-decoration-break: clone; -webkit-box-decoration-break: clone\">\n",
       "    ten \n",
       "    <span style=\"font-size: 0.8em; font-weight: bold; line-height: 1; border-radius: 0.35em; text-transform: uppercase; vertical-align: middle; margin-left: 0.5rem\">QUANTITY</span>\n",
       "</mark>\n",
       "\n",
       "<mark class=\"entity\" style=\"background: #ef94ce; padding: 0.45em 0.6em; margin: 0 0.25em; line-height: 1; border-radius: 0.35em; box-decoration-break: clone; -webkit-box-decoration-break: clone\">\n",
       "    burger \n",
       "    <span style=\"font-size: 0.8em; font-weight: bold; line-height: 1; border-radius: 0.35em; text-transform: uppercase; vertical-align: middle; margin-left: 0.5rem\">ITEM</span>\n",
       "</mark>\n",
       "\n",
       "<mark class=\"entity\" style=\"background: #ccdcff; padding: 0.45em 0.6em; margin: 0 0.25em; line-height: 1; border-radius: 0.35em; box-decoration-break: clone; -webkit-box-decoration-break: clone\">\n",
       "    make \n",
       "    <span style=\"font-size: 0.8em; font-weight: bold; line-height: 1; border-radius: 0.35em; text-transform: uppercase; vertical-align: middle; margin-left: 0.5rem\">SUBSTITUTE_WITH_TARGET</span>\n",
       "</mark>\n",
       "\n",
       "<mark class=\"entity\" style=\"background: #ea6ba7; padding: 0.45em 0.6em; margin: 0 0.25em; line-height: 1; border-radius: 0.35em; box-decoration-break: clone; -webkit-box-decoration-break: clone\">\n",
       "    that \n",
       "    <span style=\"font-size: 0.8em; font-weight: bold; line-height: 1; border-radius: 0.35em; text-transform: uppercase; vertical-align: middle; margin-left: 0.5rem\">PRONOUN</span>\n",
       "</mark>\n",
       "\n",
       "<mark class=\"entity\" style=\"background: #99fcd3; padding: 0.45em 0.6em; margin: 0 0.25em; line-height: 1; border-radius: 0.35em; box-decoration-break: clone; -webkit-box-decoration-break: clone\">\n",
       "    a \n",
       "    <span style=\"font-size: 0.8em; font-weight: bold; line-height: 1; border-radius: 0.35em; text-transform: uppercase; vertical-align: middle; margin-left: 0.5rem\">QUANTITY</span>\n",
       "</mark>\n",
       "\n",
       "<mark class=\"entity\" style=\"background: #ef94ce; padding: 0.45em 0.6em; margin: 0 0.25em; line-height: 1; border-radius: 0.35em; box-decoration-break: clone; -webkit-box-decoration-break: clone\">\n",
       "    chicken sandwich \n",
       "    <span style=\"font-size: 0.8em; font-weight: bold; line-height: 1; border-radius: 0.35em; text-transform: uppercase; vertical-align: middle; margin-left: 0.5rem\">ITEM</span>\n",
       "</mark>\n",
       "\n",
       "<mark class=\"entity\" style=\"background: #70ef92; padding: 0.45em 0.6em; margin: 0 0.25em; line-height: 1; border-radius: 0.35em; box-decoration-break: clone; -webkit-box-decoration-break: clone\">\n",
       "    and \n",
       "    <span style=\"font-size: 0.8em; font-weight: bold; line-height: 1; border-radius: 0.35em; text-transform: uppercase; vertical-align: middle; margin-left: 0.5rem\">CONJUNCTION</span>\n",
       "</mark>\n",
       "\n",
       "<mark class=\"entity\" style=\"background: #b2ffd6; padding: 0.45em 0.6em; margin: 0 0.25em; line-height: 1; border-radius: 0.35em; box-decoration-break: clone; -webkit-box-decoration-break: clone\">\n",
       "    remove \n",
       "    <span style=\"font-size: 0.8em; font-weight: bold; line-height: 1; border-radius: 0.35em; text-transform: uppercase; vertical-align: middle; margin-left: 0.5rem\">REMOVE</span>\n",
       "</mark>\n",
       "\n",
       "<mark class=\"entity\" style=\"background: #99fcd3; padding: 0.45em 0.6em; margin: 0 0.25em; line-height: 1; border-radius: 0.35em; box-decoration-break: clone; -webkit-box-decoration-break: clone\">\n",
       "    one \n",
       "    <span style=\"font-size: 0.8em; font-weight: bold; line-height: 1; border-radius: 0.35em; text-transform: uppercase; vertical-align: middle; margin-left: 0.5rem\">QUANTITY</span>\n",
       "</mark>\n",
       "\n",
       "<mark class=\"entity\" style=\"background: #ef94ce; padding: 0.45em 0.6em; margin: 0 0.25em; line-height: 1; border-radius: 0.35em; box-decoration-break: clone; -webkit-box-decoration-break: clone\">\n",
       "    burger\n",
       "    <span style=\"font-size: 0.8em; font-weight: bold; line-height: 1; border-radius: 0.35em; text-transform: uppercase; vertical-align: middle; margin-left: 0.5rem\">ITEM</span>\n",
       "</mark>\n",
       "</div>\n",
       "\n",
       "<h2 style=\"margin: 0\">GROUPS</h2>\n",
       "\n",
       "<div class=\"entities\" style=\"line-height: 2.5\">\n",
       "<mark class=\"entity\" style=\"background: #a7e5f9; padding: 0.45em 0.6em; margin: 0 0.25em; line-height: 1; border-radius: 0.35em; box-decoration-break: clone; -webkit-box-decoration-break: clone\">\n",
       "    i want ten burger \n",
       "    <span style=\"font-size: 0.8em; font-weight: bold; line-height: 1; border-radius: 0.35em; text-transform: uppercase; vertical-align: middle; margin-left: 0.5rem\">ADD</span>\n",
       "</mark>\n",
       "\n",
       "<mark class=\"entity\" style=\"background: #9edaed; padding: 0.45em 0.6em; margin: 0 0.25em; line-height: 1; border-radius: 0.35em; box-decoration-break: clone; -webkit-box-decoration-break: clone\">\n",
       "    make that a chicken sandwich \n",
       "    <span style=\"font-size: 0.8em; font-weight: bold; line-height: 1; border-radius: 0.35em; text-transform: uppercase; vertical-align: middle; margin-left: 0.5rem\">SUBSTITUTE</span>\n",
       "</mark>\n",
       "and \n",
       "<mark class=\"entity\" style=\"background: #b2ffd6; padding: 0.45em 0.6em; margin: 0 0.25em; line-height: 1; border-radius: 0.35em; box-decoration-break: clone; -webkit-box-decoration-break: clone\">\n",
       "    remove one burger\n",
       "    <span style=\"font-size: 0.8em; font-weight: bold; line-height: 1; border-radius: 0.35em; text-transform: uppercase; vertical-align: middle; margin-left: 0.5rem\">REMOVE</span>\n",
       "</mark>\n",
       "</div>"
      ],
      "text/plain": [
       "<IPython.core.display.HTML object>"
      ]
     },
     "metadata": {},
     "output_type": "display_data"
    }
   ],
   "source": [
    "predict(model, 'i want ten burger make that a chicken sandwich and remove one burger', max_utterance_length, word2idx, tag2idx, groups2idx, displacy_options)"
   ]
  },
  {
   "cell_type": "code",
   "execution_count": 45,
   "metadata": {
    "colab": {
     "base_uri": "https://localhost:8080/",
     "height": 200
    },
    "colab_type": "code",
    "executionInfo": {
     "elapsed": 267,
     "status": "ok",
     "timestamp": 1551207853453,
     "user": {
      "displayName": "Arman",
      "photoUrl": "https://lh4.googleusercontent.com/--9UN543vMkU/AAAAAAAAAAI/AAAAAAABCTQ/cyiHeJEBd6U/s64/photo.jpg",
      "userId": "06639134854516253008"
     },
     "user_tz": 300
    },
    "id": "TzYji2-C8Kdc",
    "outputId": "685e67f5-924e-42d5-a9d5-8604c3ee519f"
   },
   "outputs": [
    {
     "data": {
      "text/html": [
       "<h2 style=\"margin: 0\">SENTENCE</h2>\n",
       "\n",
       "<div class=\"entities\" style=\"line-height: 2.5\">i want a chicken sandwich and remove one burger and she need to order french fries</div>\n",
       "\n",
       "<h2 style=\"margin: 0\">TOKENS</h2>\n",
       "\n",
       "<div class=\"entities\" style=\"line-height: 2.5\">\n",
       "<mark class=\"entity\" style=\"background: #a7e5f9; padding: 0.45em 0.6em; margin: 0 0.25em; line-height: 1; border-radius: 0.35em; box-decoration-break: clone; -webkit-box-decoration-break: clone\">\n",
       "    i want \n",
       "    <span style=\"font-size: 0.8em; font-weight: bold; line-height: 1; border-radius: 0.35em; text-transform: uppercase; vertical-align: middle; margin-left: 0.5rem\">ADD</span>\n",
       "</mark>\n",
       "\n",
       "<mark class=\"entity\" style=\"background: #99fcd3; padding: 0.45em 0.6em; margin: 0 0.25em; line-height: 1; border-radius: 0.35em; box-decoration-break: clone; -webkit-box-decoration-break: clone\">\n",
       "    a \n",
       "    <span style=\"font-size: 0.8em; font-weight: bold; line-height: 1; border-radius: 0.35em; text-transform: uppercase; vertical-align: middle; margin-left: 0.5rem\">QUANTITY</span>\n",
       "</mark>\n",
       "\n",
       "<mark class=\"entity\" style=\"background: #ef94ce; padding: 0.45em 0.6em; margin: 0 0.25em; line-height: 1; border-radius: 0.35em; box-decoration-break: clone; -webkit-box-decoration-break: clone\">\n",
       "    chicken sandwich \n",
       "    <span style=\"font-size: 0.8em; font-weight: bold; line-height: 1; border-radius: 0.35em; text-transform: uppercase; vertical-align: middle; margin-left: 0.5rem\">ITEM</span>\n",
       "</mark>\n",
       "\n",
       "<mark class=\"entity\" style=\"background: #70ef92; padding: 0.45em 0.6em; margin: 0 0.25em; line-height: 1; border-radius: 0.35em; box-decoration-break: clone; -webkit-box-decoration-break: clone\">\n",
       "    and \n",
       "    <span style=\"font-size: 0.8em; font-weight: bold; line-height: 1; border-radius: 0.35em; text-transform: uppercase; vertical-align: middle; margin-left: 0.5rem\">CONJUNCTION</span>\n",
       "</mark>\n",
       "\n",
       "<mark class=\"entity\" style=\"background: #b2ffd6; padding: 0.45em 0.6em; margin: 0 0.25em; line-height: 1; border-radius: 0.35em; box-decoration-break: clone; -webkit-box-decoration-break: clone\">\n",
       "    remove \n",
       "    <span style=\"font-size: 0.8em; font-weight: bold; line-height: 1; border-radius: 0.35em; text-transform: uppercase; vertical-align: middle; margin-left: 0.5rem\">REMOVE</span>\n",
       "</mark>\n",
       "\n",
       "<mark class=\"entity\" style=\"background: #99fcd3; padding: 0.45em 0.6em; margin: 0 0.25em; line-height: 1; border-radius: 0.35em; box-decoration-break: clone; -webkit-box-decoration-break: clone\">\n",
       "    one \n",
       "    <span style=\"font-size: 0.8em; font-weight: bold; line-height: 1; border-radius: 0.35em; text-transform: uppercase; vertical-align: middle; margin-left: 0.5rem\">QUANTITY</span>\n",
       "</mark>\n",
       "\n",
       "<mark class=\"entity\" style=\"background: #ef94ce; padding: 0.45em 0.6em; margin: 0 0.25em; line-height: 1; border-radius: 0.35em; box-decoration-break: clone; -webkit-box-decoration-break: clone\">\n",
       "    burger \n",
       "    <span style=\"font-size: 0.8em; font-weight: bold; line-height: 1; border-radius: 0.35em; text-transform: uppercase; vertical-align: middle; margin-left: 0.5rem\">ITEM</span>\n",
       "</mark>\n",
       "\n",
       "<mark class=\"entity\" style=\"background: #70ef92; padding: 0.45em 0.6em; margin: 0 0.25em; line-height: 1; border-radius: 0.35em; box-decoration-break: clone; -webkit-box-decoration-break: clone\">\n",
       "    and \n",
       "    <span style=\"font-size: 0.8em; font-weight: bold; line-height: 1; border-radius: 0.35em; text-transform: uppercase; vertical-align: middle; margin-left: 0.5rem\">CONJUNCTION</span>\n",
       "</mark>\n",
       "\n",
       "<mark class=\"entity\" style=\"background: #a7e5f9; padding: 0.45em 0.6em; margin: 0 0.25em; line-height: 1; border-radius: 0.35em; box-decoration-break: clone; -webkit-box-decoration-break: clone\">\n",
       "    she need to order \n",
       "    <span style=\"font-size: 0.8em; font-weight: bold; line-height: 1; border-radius: 0.35em; text-transform: uppercase; vertical-align: middle; margin-left: 0.5rem\">ADD</span>\n",
       "</mark>\n",
       "\n",
       "<mark class=\"entity\" style=\"background: #ef94ce; padding: 0.45em 0.6em; margin: 0 0.25em; line-height: 1; border-radius: 0.35em; box-decoration-break: clone; -webkit-box-decoration-break: clone\">\n",
       "    french fries\n",
       "    <span style=\"font-size: 0.8em; font-weight: bold; line-height: 1; border-radius: 0.35em; text-transform: uppercase; vertical-align: middle; margin-left: 0.5rem\">ITEM</span>\n",
       "</mark>\n",
       "</div>\n",
       "\n",
       "<h2 style=\"margin: 0\">GROUPS</h2>\n",
       "\n",
       "<div class=\"entities\" style=\"line-height: 2.5\">\n",
       "<mark class=\"entity\" style=\"background: #a7e5f9; padding: 0.45em 0.6em; margin: 0 0.25em; line-height: 1; border-radius: 0.35em; box-decoration-break: clone; -webkit-box-decoration-break: clone\">\n",
       "    i want a chicken sandwich \n",
       "    <span style=\"font-size: 0.8em; font-weight: bold; line-height: 1; border-radius: 0.35em; text-transform: uppercase; vertical-align: middle; margin-left: 0.5rem\">ADD</span>\n",
       "</mark>\n",
       "and \n",
       "<mark class=\"entity\" style=\"background: #b2ffd6; padding: 0.45em 0.6em; margin: 0 0.25em; line-height: 1; border-radius: 0.35em; box-decoration-break: clone; -webkit-box-decoration-break: clone\">\n",
       "    remove one burger \n",
       "    <span style=\"font-size: 0.8em; font-weight: bold; line-height: 1; border-radius: 0.35em; text-transform: uppercase; vertical-align: middle; margin-left: 0.5rem\">REMOVE</span>\n",
       "</mark>\n",
       "and \n",
       "<mark class=\"entity\" style=\"background: #a7e5f9; padding: 0.45em 0.6em; margin: 0 0.25em; line-height: 1; border-radius: 0.35em; box-decoration-break: clone; -webkit-box-decoration-break: clone\">\n",
       "    she need to order french fries\n",
       "    <span style=\"font-size: 0.8em; font-weight: bold; line-height: 1; border-radius: 0.35em; text-transform: uppercase; vertical-align: middle; margin-left: 0.5rem\">ADD</span>\n",
       "</mark>\n",
       "</div>"
      ],
      "text/plain": [
       "<IPython.core.display.HTML object>"
      ]
     },
     "metadata": {},
     "output_type": "display_data"
    }
   ],
   "source": [
    "predict(model, 'i want a chicken sandwich and remove one burger and she need to order french fries', max_utterance_length, word2idx, tag2idx, groups2idx, displacy_options)"
   ]
  },
  {
   "cell_type": "code",
   "execution_count": 46,
   "metadata": {
    "colab": {
     "base_uri": "https://localhost:8080/",
     "height": 200
    },
    "colab_type": "code",
    "executionInfo": {
     "elapsed": 360,
     "status": "ok",
     "timestamp": 1551207854750,
     "user": {
      "displayName": "Arman",
      "photoUrl": "https://lh4.googleusercontent.com/--9UN543vMkU/AAAAAAAAAAI/AAAAAAABCTQ/cyiHeJEBd6U/s64/photo.jpg",
      "userId": "06639134854516253008"
     },
     "user_tz": 300
    },
    "id": "QEHxcnMs8Kde",
    "outputId": "60b0492f-458b-4259-e60e-a340599c5a26"
   },
   "outputs": [
    {
     "data": {
      "text/html": [
       "<h2 style=\"margin: 0\">SENTENCE</h2>\n",
       "\n",
       "<div class=\"entities\" style=\"line-height: 2.5\">i want a chicken sandwich and ten ten chicken strips remove five french fries</div>\n",
       "\n",
       "<h2 style=\"margin: 0\">TOKENS</h2>\n",
       "\n",
       "<div class=\"entities\" style=\"line-height: 2.5\">\n",
       "<mark class=\"entity\" style=\"background: #a7e5f9; padding: 0.45em 0.6em; margin: 0 0.25em; line-height: 1; border-radius: 0.35em; box-decoration-break: clone; -webkit-box-decoration-break: clone\">\n",
       "    i want \n",
       "    <span style=\"font-size: 0.8em; font-weight: bold; line-height: 1; border-radius: 0.35em; text-transform: uppercase; vertical-align: middle; margin-left: 0.5rem\">ADD</span>\n",
       "</mark>\n",
       "\n",
       "<mark class=\"entity\" style=\"background: #99fcd3; padding: 0.45em 0.6em; margin: 0 0.25em; line-height: 1; border-radius: 0.35em; box-decoration-break: clone; -webkit-box-decoration-break: clone\">\n",
       "    a \n",
       "    <span style=\"font-size: 0.8em; font-weight: bold; line-height: 1; border-radius: 0.35em; text-transform: uppercase; vertical-align: middle; margin-left: 0.5rem\">QUANTITY</span>\n",
       "</mark>\n",
       "\n",
       "<mark class=\"entity\" style=\"background: #ef94ce; padding: 0.45em 0.6em; margin: 0 0.25em; line-height: 1; border-radius: 0.35em; box-decoration-break: clone; -webkit-box-decoration-break: clone\">\n",
       "    chicken sandwich \n",
       "    <span style=\"font-size: 0.8em; font-weight: bold; line-height: 1; border-radius: 0.35em; text-transform: uppercase; vertical-align: middle; margin-left: 0.5rem\">ITEM</span>\n",
       "</mark>\n",
       "\n",
       "<mark class=\"entity\" style=\"background: #70ef92; padding: 0.45em 0.6em; margin: 0 0.25em; line-height: 1; border-radius: 0.35em; box-decoration-break: clone; -webkit-box-decoration-break: clone\">\n",
       "    and \n",
       "    <span style=\"font-size: 0.8em; font-weight: bold; line-height: 1; border-radius: 0.35em; text-transform: uppercase; vertical-align: middle; margin-left: 0.5rem\">CONJUNCTION</span>\n",
       "</mark>\n",
       "\n",
       "<mark class=\"entity\" style=\"background: #99fcd3; padding: 0.45em 0.6em; margin: 0 0.25em; line-height: 1; border-radius: 0.35em; box-decoration-break: clone; -webkit-box-decoration-break: clone\">\n",
       "    ten \n",
       "    <span style=\"font-size: 0.8em; font-weight: bold; line-height: 1; border-radius: 0.35em; text-transform: uppercase; vertical-align: middle; margin-left: 0.5rem\">QUANTITY</span>\n",
       "</mark>\n",
       "\n",
       "<mark class=\"entity\" style=\"background: #ef94ce; padding: 0.45em 0.6em; margin: 0 0.25em; line-height: 1; border-radius: 0.35em; box-decoration-break: clone; -webkit-box-decoration-break: clone\">\n",
       "    ten chicken strips \n",
       "    <span style=\"font-size: 0.8em; font-weight: bold; line-height: 1; border-radius: 0.35em; text-transform: uppercase; vertical-align: middle; margin-left: 0.5rem\">ITEM</span>\n",
       "</mark>\n",
       "\n",
       "<mark class=\"entity\" style=\"background: #b2ffd6; padding: 0.45em 0.6em; margin: 0 0.25em; line-height: 1; border-radius: 0.35em; box-decoration-break: clone; -webkit-box-decoration-break: clone\">\n",
       "    remove \n",
       "    <span style=\"font-size: 0.8em; font-weight: bold; line-height: 1; border-radius: 0.35em; text-transform: uppercase; vertical-align: middle; margin-left: 0.5rem\">REMOVE</span>\n",
       "</mark>\n",
       "\n",
       "<mark class=\"entity\" style=\"background: #99fcd3; padding: 0.45em 0.6em; margin: 0 0.25em; line-height: 1; border-radius: 0.35em; box-decoration-break: clone; -webkit-box-decoration-break: clone\">\n",
       "    five \n",
       "    <span style=\"font-size: 0.8em; font-weight: bold; line-height: 1; border-radius: 0.35em; text-transform: uppercase; vertical-align: middle; margin-left: 0.5rem\">QUANTITY</span>\n",
       "</mark>\n",
       "\n",
       "<mark class=\"entity\" style=\"background: #ef94ce; padding: 0.45em 0.6em; margin: 0 0.25em; line-height: 1; border-radius: 0.35em; box-decoration-break: clone; -webkit-box-decoration-break: clone\">\n",
       "    french fries\n",
       "    <span style=\"font-size: 0.8em; font-weight: bold; line-height: 1; border-radius: 0.35em; text-transform: uppercase; vertical-align: middle; margin-left: 0.5rem\">ITEM</span>\n",
       "</mark>\n",
       "</div>\n",
       "\n",
       "<h2 style=\"margin: 0\">GROUPS</h2>\n",
       "\n",
       "<div class=\"entities\" style=\"line-height: 2.5\">\n",
       "<mark class=\"entity\" style=\"background: #a7e5f9; padding: 0.45em 0.6em; margin: 0 0.25em; line-height: 1; border-radius: 0.35em; box-decoration-break: clone; -webkit-box-decoration-break: clone\">\n",
       "    i want a chicken sandwich and ten ten chicken strips \n",
       "    <span style=\"font-size: 0.8em; font-weight: bold; line-height: 1; border-radius: 0.35em; text-transform: uppercase; vertical-align: middle; margin-left: 0.5rem\">ADD</span>\n",
       "</mark>\n",
       "\n",
       "<mark class=\"entity\" style=\"background: #b2ffd6; padding: 0.45em 0.6em; margin: 0 0.25em; line-height: 1; border-radius: 0.35em; box-decoration-break: clone; -webkit-box-decoration-break: clone\">\n",
       "    remove five french fries\n",
       "    <span style=\"font-size: 0.8em; font-weight: bold; line-height: 1; border-radius: 0.35em; text-transform: uppercase; vertical-align: middle; margin-left: 0.5rem\">REMOVE</span>\n",
       "</mark>\n",
       "</div>"
      ],
      "text/plain": [
       "<IPython.core.display.HTML object>"
      ]
     },
     "metadata": {},
     "output_type": "display_data"
    }
   ],
   "source": [
    "predict(model, 'i want a chicken sandwich and ten ten chicken strips remove five french fries', max_utterance_length, word2idx, tag2idx, groups2idx, displacy_options)"
   ]
  },
  {
   "cell_type": "code",
   "execution_count": 47,
   "metadata": {
    "colab": {
     "base_uri": "https://localhost:8080/",
     "height": 200
    },
    "colab_type": "code",
    "executionInfo": {
     "elapsed": 455,
     "status": "ok",
     "timestamp": 1551207856789,
     "user": {
      "displayName": "Arman",
      "photoUrl": "https://lh4.googleusercontent.com/--9UN543vMkU/AAAAAAAAAAI/AAAAAAABCTQ/cyiHeJEBd6U/s64/photo.jpg",
      "userId": "06639134854516253008"
     },
     "user_tz": 300
    },
    "id": "Coe2ONhH8Kdg",
    "outputId": "31d5879c-1a18-44d4-ad7e-7a169a497a71"
   },
   "outputs": [
    {
     "data": {
      "text/html": [
       "<h2 style=\"margin: 0\">SENTENCE</h2>\n",
       "\n",
       "<div class=\"entities\" style=\"line-height: 2.5\">i want a chicken sandwich with coke actually make the chicken sandwich a hamburger and give me a burger</div>\n",
       "\n",
       "<h2 style=\"margin: 0\">TOKENS</h2>\n",
       "\n",
       "<div class=\"entities\" style=\"line-height: 2.5\">\n",
       "<mark class=\"entity\" style=\"background: #a7e5f9; padding: 0.45em 0.6em; margin: 0 0.25em; line-height: 1; border-radius: 0.35em; box-decoration-break: clone; -webkit-box-decoration-break: clone\">\n",
       "    i want \n",
       "    <span style=\"font-size: 0.8em; font-weight: bold; line-height: 1; border-radius: 0.35em; text-transform: uppercase; vertical-align: middle; margin-left: 0.5rem\">ADD</span>\n",
       "</mark>\n",
       "\n",
       "<mark class=\"entity\" style=\"background: #99fcd3; padding: 0.45em 0.6em; margin: 0 0.25em; line-height: 1; border-radius: 0.35em; box-decoration-break: clone; -webkit-box-decoration-break: clone\">\n",
       "    a \n",
       "    <span style=\"font-size: 0.8em; font-weight: bold; line-height: 1; border-radius: 0.35em; text-transform: uppercase; vertical-align: middle; margin-left: 0.5rem\">QUANTITY</span>\n",
       "</mark>\n",
       "\n",
       "<mark class=\"entity\" style=\"background: #ef94ce; padding: 0.45em 0.6em; margin: 0 0.25em; line-height: 1; border-radius: 0.35em; box-decoration-break: clone; -webkit-box-decoration-break: clone\">\n",
       "    chicken sandwich \n",
       "    <span style=\"font-size: 0.8em; font-weight: bold; line-height: 1; border-radius: 0.35em; text-transform: uppercase; vertical-align: middle; margin-left: 0.5rem\">ITEM</span>\n",
       "</mark>\n",
       "\n",
       "<mark class=\"entity\" style=\"background: #7b90f7; padding: 0.45em 0.6em; margin: 0 0.25em; line-height: 1; border-radius: 0.35em; box-decoration-break: clone; -webkit-box-decoration-break: clone\">\n",
       "    with \n",
       "    <span style=\"font-size: 0.8em; font-weight: bold; line-height: 1; border-radius: 0.35em; text-transform: uppercase; vertical-align: middle; margin-left: 0.5rem\">PREPOSITION_TARGET_BACK</span>\n",
       "</mark>\n",
       "\n",
       "<mark class=\"entity\" style=\"background: #ef94ce; padding: 0.45em 0.6em; margin: 0 0.25em; line-height: 1; border-radius: 0.35em; box-decoration-break: clone; -webkit-box-decoration-break: clone\">\n",
       "    coke \n",
       "    <span style=\"font-size: 0.8em; font-weight: bold; line-height: 1; border-radius: 0.35em; text-transform: uppercase; vertical-align: middle; margin-left: 0.5rem\">ITEM</span>\n",
       "</mark>\n",
       "\n",
       "<mark class=\"entity\" style=\"background: #ccdcff; padding: 0.45em 0.6em; margin: 0 0.25em; line-height: 1; border-radius: 0.35em; box-decoration-break: clone; -webkit-box-decoration-break: clone\">\n",
       "    actually make \n",
       "    <span style=\"font-size: 0.8em; font-weight: bold; line-height: 1; border-radius: 0.35em; text-transform: uppercase; vertical-align: middle; margin-left: 0.5rem\">SUBSTITUTE_WITH_TARGET</span>\n",
       "</mark>\n",
       "\n",
       "<mark class=\"entity\" style=\"background: #fcbafa; padding: 0.45em 0.6em; margin: 0 0.25em; line-height: 1; border-radius: 0.35em; box-decoration-break: clone; -webkit-box-decoration-break: clone\">\n",
       "    the \n",
       "    <span style=\"font-size: 0.8em; font-weight: bold; line-height: 1; border-radius: 0.35em; text-transform: uppercase; vertical-align: middle; margin-left: 0.5rem\">THE</span>\n",
       "</mark>\n",
       "\n",
       "<mark class=\"entity\" style=\"background: #ef94ce; padding: 0.45em 0.6em; margin: 0 0.25em; line-height: 1; border-radius: 0.35em; box-decoration-break: clone; -webkit-box-decoration-break: clone\">\n",
       "    chicken sandwich \n",
       "    <span style=\"font-size: 0.8em; font-weight: bold; line-height: 1; border-radius: 0.35em; text-transform: uppercase; vertical-align: middle; margin-left: 0.5rem\">ITEM</span>\n",
       "</mark>\n",
       "\n",
       "<mark class=\"entity\" style=\"background: #99fcd3; padding: 0.45em 0.6em; margin: 0 0.25em; line-height: 1; border-radius: 0.35em; box-decoration-break: clone; -webkit-box-decoration-break: clone\">\n",
       "    a \n",
       "    <span style=\"font-size: 0.8em; font-weight: bold; line-height: 1; border-radius: 0.35em; text-transform: uppercase; vertical-align: middle; margin-left: 0.5rem\">QUANTITY</span>\n",
       "</mark>\n",
       "\n",
       "<mark class=\"entity\" style=\"background: #ef94ce; padding: 0.45em 0.6em; margin: 0 0.25em; line-height: 1; border-radius: 0.35em; box-decoration-break: clone; -webkit-box-decoration-break: clone\">\n",
       "    hamburger \n",
       "    <span style=\"font-size: 0.8em; font-weight: bold; line-height: 1; border-radius: 0.35em; text-transform: uppercase; vertical-align: middle; margin-left: 0.5rem\">ITEM</span>\n",
       "</mark>\n",
       "\n",
       "<mark class=\"entity\" style=\"background: #70ef92; padding: 0.45em 0.6em; margin: 0 0.25em; line-height: 1; border-radius: 0.35em; box-decoration-break: clone; -webkit-box-decoration-break: clone\">\n",
       "    and \n",
       "    <span style=\"font-size: 0.8em; font-weight: bold; line-height: 1; border-radius: 0.35em; text-transform: uppercase; vertical-align: middle; margin-left: 0.5rem\">CONJUNCTION</span>\n",
       "</mark>\n",
       "\n",
       "<mark class=\"entity\" style=\"background: #a7e5f9; padding: 0.45em 0.6em; margin: 0 0.25em; line-height: 1; border-radius: 0.35em; box-decoration-break: clone; -webkit-box-decoration-break: clone\">\n",
       "    give me \n",
       "    <span style=\"font-size: 0.8em; font-weight: bold; line-height: 1; border-radius: 0.35em; text-transform: uppercase; vertical-align: middle; margin-left: 0.5rem\">ADD</span>\n",
       "</mark>\n",
       "\n",
       "<mark class=\"entity\" style=\"background: #99fcd3; padding: 0.45em 0.6em; margin: 0 0.25em; line-height: 1; border-radius: 0.35em; box-decoration-break: clone; -webkit-box-decoration-break: clone\">\n",
       "    a \n",
       "    <span style=\"font-size: 0.8em; font-weight: bold; line-height: 1; border-radius: 0.35em; text-transform: uppercase; vertical-align: middle; margin-left: 0.5rem\">QUANTITY</span>\n",
       "</mark>\n",
       "\n",
       "<mark class=\"entity\" style=\"background: #ef94ce; padding: 0.45em 0.6em; margin: 0 0.25em; line-height: 1; border-radius: 0.35em; box-decoration-break: clone; -webkit-box-decoration-break: clone\">\n",
       "    burger\n",
       "    <span style=\"font-size: 0.8em; font-weight: bold; line-height: 1; border-radius: 0.35em; text-transform: uppercase; vertical-align: middle; margin-left: 0.5rem\">ITEM</span>\n",
       "</mark>\n",
       "</div>\n",
       "\n",
       "<h2 style=\"margin: 0\">GROUPS</h2>\n",
       "\n",
       "<div class=\"entities\" style=\"line-height: 2.5\">\n",
       "<mark class=\"entity\" style=\"background: #a7e5f9; padding: 0.45em 0.6em; margin: 0 0.25em; line-height: 1; border-radius: 0.35em; box-decoration-break: clone; -webkit-box-decoration-break: clone\">\n",
       "    i want a chicken sandwich with coke \n",
       "    <span style=\"font-size: 0.8em; font-weight: bold; line-height: 1; border-radius: 0.35em; text-transform: uppercase; vertical-align: middle; margin-left: 0.5rem\">ADD</span>\n",
       "</mark>\n",
       "\n",
       "<mark class=\"entity\" style=\"background: #9edaed; padding: 0.45em 0.6em; margin: 0 0.25em; line-height: 1; border-radius: 0.35em; box-decoration-break: clone; -webkit-box-decoration-break: clone\">\n",
       "    actually make the chicken sandwich a hamburger \n",
       "    <span style=\"font-size: 0.8em; font-weight: bold; line-height: 1; border-radius: 0.35em; text-transform: uppercase; vertical-align: middle; margin-left: 0.5rem\">SUBSTITUTE</span>\n",
       "</mark>\n",
       "and \n",
       "<mark class=\"entity\" style=\"background: #a7e5f9; padding: 0.45em 0.6em; margin: 0 0.25em; line-height: 1; border-radius: 0.35em; box-decoration-break: clone; -webkit-box-decoration-break: clone\">\n",
       "    give me a burger\n",
       "    <span style=\"font-size: 0.8em; font-weight: bold; line-height: 1; border-radius: 0.35em; text-transform: uppercase; vertical-align: middle; margin-left: 0.5rem\">ADD</span>\n",
       "</mark>\n",
       "</div>"
      ],
      "text/plain": [
       "<IPython.core.display.HTML object>"
      ]
     },
     "metadata": {},
     "output_type": "display_data"
    }
   ],
   "source": [
    "predict(model, 'i want a chicken sandwich with coke actually make the chicken sandwich a hamburger and give me a burger', max_utterance_length, word2idx, tag2idx, groups2idx, displacy_options)"
   ]
  }
 ],
 "metadata": {
  "accelerator": "TPU",
  "colab": {
   "collapsed_sections": [],
   "name": "Copy of lstm.ipynb",
   "provenance": [
    {
     "file_id": "1FxTrm81pNCQfCTKVhGIumEf-w5Tt5jD6",
     "timestamp": 1551111035178
    }
   ],
   "version": "0.3.2"
  },
  "kernelspec": {
   "display_name": "Python 3",
   "language": "python",
   "name": "python3"
  },
  "language_info": {
   "codemirror_mode": {
    "name": "ipython",
    "version": 3
   },
   "file_extension": ".py",
   "mimetype": "text/x-python",
   "name": "python",
   "nbconvert_exporter": "python",
   "pygments_lexer": "ipython3",
   "version": "3.6.8"
  }
 },
 "nbformat": 4,
 "nbformat_minor": 1
}
